{
 "cells": [
  {
   "cell_type": "markdown",
   "id": "another-maker",
   "metadata": {
    "papermill": {
     "duration": 0.034402,
     "end_time": "2021-09-25T11:21:54.064961",
     "exception": false,
     "start_time": "2021-09-25T11:21:54.030559",
     "status": "completed"
    },
    "tags": []
   },
   "source": [
    "In this notebook, I use UCI's [Electrical Grid Stability data](https://archive.ics.uci.edu/ml/datasets/Electrical+Grid+Stability+Simulated+Data+) to predict if a given combination of power system conditions would result in an unstable grid - and therefore risk causing blackouts or damaging equipment. After brief data exploration and processing, I ran baseline models, confirmed my feature selection, then optimised the models. The best classifier scored 98.3% accuracy on held out data, similar to a deep learning model [in this publication](https://link.springer.com/article/10.1007/s42979-021-00463-5/tables/3), while the best regressor gave an R<sup>2</sup> score of 95.9%. Finally, I pickled the best models and created [a simple app](https://share.streamlit.io/sowla/grid_stability_app/main/grid_stability.py), where users can adjust model inputs and see how resulting predictions are affected (source code and tests/github actions are [here](https://github.com/sowla/grid_stability_app)).\n",
    "\n",
    "<a id=\"overview\"></a>\n",
    "### Overview\n",
    "\n",
    "* [Introduction](#introduction)\n",
    "* [Quick EDA](#quick-eda)\n",
    "* [Build baseline models](#build-baseline-models) (fit baseline models, check feature selection and overfitting)\n",
    "* [Optimise models](#optimise-models) (with randomised and grid searches, results summarised [here](#hyperparameter-tuning-summary))\n",
    "* [Test final model](#test-final-model)\n",
    "* [Interesting links](#interesting-links) (related to power grids)\n",
    "\n",
    "<a id=\"introduction\"></a>\n",
    "### Introduction\n",
    "\n",
    "Share of renewable electricity production in Germany has grown from [9% in 2002 to 46% in 2019](https://energy-charts.info/charts/renewable_share/chart.htm?l=en&c=DE&interval=year), an [important progress for meeting climate targets](https://2022.entsos-tyndp-scenarios.eu/wp-content/uploads/2021/04/entsog_entso-e_TYNDP2022_Joint_Scenarios_Final_Storyline_Report_210421.pdf). However, intermittency of weather-dependent renewable sources makes it [harder and more expensive](https://www.drax.com/wp-content/uploads/2020/08/200828_Drax20_Q2_Report_005.pdf) to maintain grid stability (a balance of electricity production and consumption). The [Decentral Smart Grid Control](https://iopscience.iop.org/article/10.1088/1367-2630/17/1/015002#njp505903s5) (DSGC) concept was proposed as a way to adjust price based on supply and demand in a decentralised way - giving consumers an incentive to adjust their usage and help stabilise the grid without needing to centrally collect their usage data.\n",
    "\n",
    "The data set I'm using [was originally simulated](https://arxiv.org/pdf/1508.02217v1.pdf) to explore if grid stability can be maintained under DSGC, assuming a 4-node architecture: one producer providing electricity to three consumers. There are 10,000 instances and 12 attributes:  \n",
    "- `p[x]` (`p1` to `p4`): power produced or consumed; `p1 = abs(p2 + p3 + p4)`\n",
    "- `g[x]` (`g1` to `g4`): willingness of each node to adapt their consumption or production per second (gamma, proportional to price elasticity)  \n",
    "- `tau[x]` (`tau1` to `tau4`): how long it takes for each node to adapt their production or consumption in seconds\n",
    "\n",
    "where `p1`, `g1` and `tau1` are related to the electricity producer; the rest are related to the electricity consumers.\n",
    "\n",
    "There are also two target variables:  \n",
    "- `stab`: a number representing grid stability (positive if unstable)\n",
    "- `stabf`: a categorical version of `stab`\n",
    "\n",
    "and I've worked on both the classification and regression problems."
   ]
  },
  {
   "cell_type": "code",
   "execution_count": 1,
   "id": "thermal-eligibility",
   "metadata": {
    "_kg_hide-input": false,
    "execution": {
     "iopub.execute_input": "2021-09-25T11:21:54.141244Z",
     "iopub.status.busy": "2021-09-25T11:21:54.140676Z",
     "iopub.status.idle": "2021-09-25T11:21:56.461679Z",
     "shell.execute_reply": "2021-09-25T11:21:56.462266Z",
     "shell.execute_reply.started": "2021-09-25T09:53:42.428858Z"
    },
    "papermill": {
     "duration": 2.365608,
     "end_time": "2021-09-25T11:21:56.462559",
     "exception": false,
     "start_time": "2021-09-25T11:21:54.096951",
     "status": "completed"
    },
    "tags": []
   },
   "outputs": [
    {
     "data": {
      "text/html": [
       "<style type='text/css'>\n",
       ".datatable table.frame { margin-bottom: 0; }\n",
       ".datatable table.frame thead { border-bottom: none; }\n",
       ".datatable table.frame tr.coltypes td {  color: #FFFFFF;  line-height: 6px;  padding: 0 0.5em;}\n",
       ".datatable .bool    { background: #DDDD99; }\n",
       ".datatable .object  { background: #565656; }\n",
       ".datatable .int     { background: #5D9E5D; }\n",
       ".datatable .float   { background: #4040CC; }\n",
       ".datatable .str     { background: #CC4040; }\n",
       ".datatable .row_index {  background: var(--jp-border-color3);  border-right: 1px solid var(--jp-border-color0);  color: var(--jp-ui-font-color3);  font-size: 9px;}\n",
       ".datatable .frame tr.coltypes .row_index {  background: var(--jp-border-color0);}\n",
       ".datatable th:nth-child(2) { padding-left: 12px; }\n",
       ".datatable .hellipsis {  color: var(--jp-cell-editor-border-color);}\n",
       ".datatable .vellipsis {  background: var(--jp-layout-color0);  color: var(--jp-cell-editor-border-color);}\n",
       ".datatable .na {  color: var(--jp-cell-editor-border-color);  font-size: 80%;}\n",
       ".datatable .footer { font-size: 9px; }\n",
       ".datatable .frame_dimensions {  background: var(--jp-border-color3);  border-top: 1px solid var(--jp-border-color0);  color: var(--jp-ui-font-color3);  display: inline-block;  opacity: 0.6;  padding: 1px 10px 1px 5px;}\n",
       "</style>\n"
      ],
      "text/plain": [
       "<IPython.core.display.HTML object>"
      ]
     },
     "metadata": {},
     "output_type": "display_data"
    }
   ],
   "source": [
    "# data exploration / preprocessing\n",
    "import pandas as pd\n",
    "import numpy as np\n",
    "import seaborn as sns\n",
    "import matplotlib.pyplot as plt\n",
    "from statsmodels.stats.outliers_influence import variance_inflation_factor\n",
    "from sklearn.pipeline import Pipeline\n",
    "from sklearn.preprocessing import (StandardScaler, RobustScaler,\n",
    "                                   FunctionTransformer, QuantileTransformer)\n",
    "\n",
    "# model fitting / evaluation / export\n",
    "from sklearn.linear_model import LogisticRegression, LinearRegression, Lasso, Ridge\n",
    "from sklearn.ensemble import (RandomForestClassifier, RandomForestRegressor, \n",
    "                              VotingClassifier)\n",
    "from sklearn.neighbors import KNeighborsClassifier, KNeighborsRegressor\n",
    "from sklearn.svm import SVC, SVR, LinearSVC, LinearSVR\n",
    "from lightgbm import LGBMClassifier, LGBMRegressor, plot_metric, plot_importance\n",
    "from sklearn.inspection import permutation_importance\n",
    "from sklearn.model_selection import (train_test_split, StratifiedKFold, KFold,\n",
    "                                     cross_validate,\n",
    "                                     RandomizedSearchCV, GridSearchCV)\n",
    "from sklearn.metrics import (plot_confusion_matrix, classification_report,\n",
    "                             plot_roc_curve)\n",
    "import pickle\n",
    "\n",
    "# misc\n",
    "from IPython.display import display_html"
   ]
  },
  {
   "cell_type": "code",
   "execution_count": 2,
   "id": "lonely-jurisdiction",
   "metadata": {
    "execution": {
     "iopub.execute_input": "2021-09-25T11:21:56.530305Z",
     "iopub.status.busy": "2021-09-25T11:21:56.529761Z",
     "iopub.status.idle": "2021-09-25T11:21:56.627249Z",
     "shell.execute_reply": "2021-09-25T11:21:56.627677Z",
     "shell.execute_reply.started": "2021-09-25T09:53:45.561774Z"
    },
    "papermill": {
     "duration": 0.132478,
     "end_time": "2021-09-25T11:21:56.627854",
     "exception": false,
     "start_time": "2021-09-25T11:21:56.495376",
     "status": "completed"
    },
    "tags": []
   },
   "outputs": [
    {
     "data": {
      "text/html": [
       "<div>\n",
       "<style scoped>\n",
       "    .dataframe tbody tr th:only-of-type {\n",
       "        vertical-align: middle;\n",
       "    }\n",
       "\n",
       "    .dataframe tbody tr th {\n",
       "        vertical-align: top;\n",
       "    }\n",
       "\n",
       "    .dataframe thead th {\n",
       "        text-align: right;\n",
       "    }\n",
       "</style>\n",
       "<table border=\"1\" class=\"dataframe\">\n",
       "  <thead>\n",
       "    <tr style=\"text-align: right;\">\n",
       "      <th></th>\n",
       "      <th>tau1</th>\n",
       "      <th>tau2</th>\n",
       "      <th>tau3</th>\n",
       "      <th>tau4</th>\n",
       "      <th>p1</th>\n",
       "      <th>p2</th>\n",
       "      <th>p3</th>\n",
       "      <th>p4</th>\n",
       "      <th>g1</th>\n",
       "      <th>g2</th>\n",
       "      <th>g3</th>\n",
       "      <th>g4</th>\n",
       "      <th>stab</th>\n",
       "      <th>stabf</th>\n",
       "    </tr>\n",
       "  </thead>\n",
       "  <tbody>\n",
       "    <tr>\n",
       "      <th>0</th>\n",
       "      <td>2.959060</td>\n",
       "      <td>3.079885</td>\n",
       "      <td>8.381025</td>\n",
       "      <td>9.780754</td>\n",
       "      <td>3.763085</td>\n",
       "      <td>-0.782604</td>\n",
       "      <td>-1.257395</td>\n",
       "      <td>-1.723086</td>\n",
       "      <td>0.650456</td>\n",
       "      <td>0.859578</td>\n",
       "      <td>0.887445</td>\n",
       "      <td>0.958034</td>\n",
       "      <td>0.055347</td>\n",
       "      <td>unstable</td>\n",
       "    </tr>\n",
       "    <tr>\n",
       "      <th>1</th>\n",
       "      <td>9.304097</td>\n",
       "      <td>4.902524</td>\n",
       "      <td>3.047541</td>\n",
       "      <td>1.369357</td>\n",
       "      <td>5.067812</td>\n",
       "      <td>-1.940058</td>\n",
       "      <td>-1.872742</td>\n",
       "      <td>-1.255012</td>\n",
       "      <td>0.413441</td>\n",
       "      <td>0.862414</td>\n",
       "      <td>0.562139</td>\n",
       "      <td>0.781760</td>\n",
       "      <td>-0.005957</td>\n",
       "      <td>stable</td>\n",
       "    </tr>\n",
       "    <tr>\n",
       "      <th>2</th>\n",
       "      <td>8.971707</td>\n",
       "      <td>8.848428</td>\n",
       "      <td>3.046479</td>\n",
       "      <td>1.214518</td>\n",
       "      <td>3.405158</td>\n",
       "      <td>-1.207456</td>\n",
       "      <td>-1.277210</td>\n",
       "      <td>-0.920492</td>\n",
       "      <td>0.163041</td>\n",
       "      <td>0.766689</td>\n",
       "      <td>0.839444</td>\n",
       "      <td>0.109853</td>\n",
       "      <td>0.003471</td>\n",
       "      <td>unstable</td>\n",
       "    </tr>\n",
       "  </tbody>\n",
       "</table>\n",
       "</div>"
      ],
      "text/plain": [
       "       tau1      tau2      tau3      tau4        p1        p2        p3  \\\n",
       "0  2.959060  3.079885  8.381025  9.780754  3.763085 -0.782604 -1.257395   \n",
       "1  9.304097  4.902524  3.047541  1.369357  5.067812 -1.940058 -1.872742   \n",
       "2  8.971707  8.848428  3.046479  1.214518  3.405158 -1.207456 -1.277210   \n",
       "\n",
       "         p4        g1        g2        g3        g4      stab     stabf  \n",
       "0 -1.723086  0.650456  0.859578  0.887445  0.958034  0.055347  unstable  \n",
       "1 -1.255012  0.413441  0.862414  0.562139  0.781760 -0.005957    stable  \n",
       "2 -0.920492  0.163041  0.766689  0.839444  0.109853  0.003471  unstable  "
      ]
     },
     "execution_count": 2,
     "metadata": {},
     "output_type": "execute_result"
    }
   ],
   "source": [
    "smart_grid_orig = pd.read_csv(\"../input/ucis-electrical-grid-stability-simulated-data/Data_for_UCI_named.csv\")\n",
    "\n",
    "smart_grid_orig.head(3)"
   ]
  },
  {
   "cell_type": "markdown",
   "id": "intelligent-county",
   "metadata": {
    "papermill": {
     "duration": 0.032479,
     "end_time": "2021-09-25T11:21:56.693251",
     "exception": false,
     "start_time": "2021-09-25T11:21:56.660772",
     "status": "completed"
    },
    "tags": []
   },
   "source": [
    "Back to [Overview](#overview)\n",
    "\n",
    "<a id=\"quick-eda\"></a>\n",
    "### Quick EDA\n",
    "\n",
    "Since the data was simulated and very clean, I only briefly explored and processed it, e.g. basic quality checks, look at class balance, encode labels and rename columns for clarity:"
   ]
  },
  {
   "cell_type": "code",
   "execution_count": 3,
   "id": "lyric-clone",
   "metadata": {
    "_kg_hide-input": true,
    "execution": {
     "iopub.execute_input": "2021-09-25T11:21:56.762185Z",
     "iopub.status.busy": "2021-09-25T11:21:56.761541Z",
     "iopub.status.idle": "2021-09-25T11:21:56.784232Z",
     "shell.execute_reply": "2021-09-25T11:21:56.784684Z",
     "shell.execute_reply.started": "2021-09-25T06:54:18.978868Z"
    },
    "papermill": {
     "duration": 0.058282,
     "end_time": "2021-09-25T11:21:56.784950",
     "exception": false,
     "start_time": "2021-09-25T11:21:56.726668",
     "status": "completed"
    },
    "tags": []
   },
   "outputs": [
    {
     "name": "stdout",
     "output_type": "stream",
     "text": [
      "As expected, no missing data and `stab` values of less than 0 are labelled 'stable' in `stabf`.\n"
     ]
    }
   ],
   "source": [
    "assert smart_grid_orig.isna().sum().sum() == 0, \"some data missing\"\n",
    "\n",
    "stab_fine = max(smart_grid_orig.query(\"stabf == 'stable'\")[\"stab\"]) < 0\n",
    "stabf_fine = min(smart_grid_orig.query(\"stabf == 'unstable'\")[\"stab\"]) > 0\n",
    "assert (stab_fine & stabf_fine), \"unexpected stab/stabf relationship\"\n",
    "\n",
    "print(\"As expected, no missing data and `stab` values of less than 0 are labelled 'stable' in `stabf`.\")"
   ]
  },
  {
   "cell_type": "code",
   "execution_count": 4,
   "id": "respective-scale",
   "metadata": {
    "_kg_hide-input": true,
    "execution": {
     "iopub.execute_input": "2021-09-25T11:21:56.871447Z",
     "iopub.status.busy": "2021-09-25T11:21:56.870849Z",
     "iopub.status.idle": "2021-09-25T11:21:57.485378Z",
     "shell.execute_reply": "2021-09-25T11:21:57.485820Z",
     "shell.execute_reply.started": "2021-09-25T06:54:19.009303Z"
    },
    "papermill": {
     "duration": 0.667062,
     "end_time": "2021-09-25T11:21:57.486011",
     "exception": false,
     "start_time": "2021-09-25T11:21:56.818949",
     "status": "completed"
    },
    "tags": []
   },
   "outputs": [
    {
     "data": {
      "image/png": "[encoded data removed]",
      "text/plain": [
       "<Figure size 1080x216 with 4 Axes>"
      ]
     },
     "metadata": {
      "needs_background": "light"
     },
     "output_type": "display_data"
    }
   ],
   "source": [
    "fig, axs = plt.subplots(1, 4, figsize=(15, 3))\n",
    "\n",
    "for axs_ind, feature_group in enumerate([\"tau\", \"p\", \"g\"]):\n",
    "    smart_grid_orig.boxplot(\n",
    "        column=[feature_group + str(i + 1) for i in range(4)], \n",
    "        ax= axs[axs_ind]\n",
    "    )\n",
    "smart_grid_orig.boxplot(column=\"stab\", ax= axs[3])\n",
    "\n",
    "for axs_ind, title in enumerate([\"reaction time\", \"power production/consumption\",\n",
    "                                 \"willingness to adapt\", \"grid stability\"]):\n",
    "    axs[axs_ind].set(title=title);"
   ]
  },
  {
   "cell_type": "code",
   "execution_count": 5,
   "id": "manual-england",
   "metadata": {
    "_kg_hide-input": true,
    "execution": {
     "iopub.execute_input": "2021-09-25T11:21:57.558028Z",
     "iopub.status.busy": "2021-09-25T11:21:57.557368Z",
     "iopub.status.idle": "2021-09-25T11:21:57.566626Z",
     "shell.execute_reply": "2021-09-25T11:21:57.566108Z",
     "shell.execute_reply.started": "2021-09-25T06:54:19.857084Z"
    },
    "papermill": {
     "duration": 0.046154,
     "end_time": "2021-09-25T11:21:57.566761",
     "exception": false,
     "start_time": "2021-09-25T11:21:57.520607",
     "status": "completed"
    },
    "tags": []
   },
   "outputs": [
    {
     "name": "stdout",
     "output_type": "stream",
     "text": [
      "unstable    0.638\n",
      "stable      0.362\n",
      "Name: stabf, dtype: float64\n"
     ]
    }
   ],
   "source": [
    "print(smart_grid_orig[\"stabf\"].value_counts(normalize=True))  # pretty balanced"
   ]
  },
  {
   "cell_type": "code",
   "execution_count": 6,
   "id": "deadly-municipality",
   "metadata": {
    "execution": {
     "iopub.execute_input": "2021-09-25T11:21:57.639676Z",
     "iopub.status.busy": "2021-09-25T11:21:57.639044Z",
     "iopub.status.idle": "2021-09-25T11:21:57.648519Z",
     "shell.execute_reply": "2021-09-25T11:21:57.648044Z",
     "shell.execute_reply.started": "2021-09-25T09:54:03.617644Z"
    },
    "papermill": {
     "duration": 0.047842,
     "end_time": "2021-09-25T11:21:57.648681",
     "exception": false,
     "start_time": "2021-09-25T11:21:57.600839",
     "status": "completed"
    },
    "tags": []
   },
   "outputs": [],
   "source": [
    "smart_grid = smart_grid_orig.assign(stabf = lambda x: x.stabf.replace({\"unstable\": 0, \"stable\": 1}))\n",
    "\n",
    "smart_grid.columns = (smart_grid.columns\n",
    "                      .str.replace(\"tau\", \"delay\")\n",
    "                      .str.replace(\"p\", \"power\")\n",
    "                      .str.replace(\"g\", \"adapt\"))"
   ]
  },
  {
   "cell_type": "code",
   "execution_count": 7,
   "id": "pretty-benchmark",
   "metadata": {
    "_kg_hide-input": true,
    "execution": {
     "iopub.execute_input": "2021-09-25T11:21:57.722131Z",
     "iopub.status.busy": "2021-09-25T11:21:57.721527Z",
     "iopub.status.idle": "2021-09-25T11:22:13.399381Z",
     "shell.execute_reply": "2021-09-25T11:22:13.399943Z",
     "shell.execute_reply.started": "2021-09-25T06:54:19.895736Z"
    },
    "papermill": {
     "duration": 15.717413,
     "end_time": "2021-09-25T11:22:13.400127",
     "exception": false,
     "start_time": "2021-09-25T11:21:57.682714",
     "status": "completed"
    },
    "tags": []
   },
   "outputs": [
    {
     "data": {
      "image/png": "[encoded data removed]",
      "text/plain": [
       "<Figure size 604.8x604.8 with 119 Axes>"
      ]
     },
     "metadata": {
      "needs_background": "light"
     },
     "output_type": "display_data"
    }
   ],
   "source": [
    "g = sns.PairGrid(smart_grid, diag_sharey=False,\n",
    "                 corner=True, height=0.6, aspect=1)\n",
    "g.map_lower(sns.scatterplot, s=1)\n",
    "g.map_diag(sns.histplot);"
   ]
  },
  {
   "cell_type": "code",
   "execution_count": 8,
   "id": "designed-slovakia",
   "metadata": {
    "_kg_hide-input": true,
    "execution": {
     "iopub.execute_input": "2021-09-25T11:22:13.481464Z",
     "iopub.status.busy": "2021-09-25T11:22:13.480888Z",
     "iopub.status.idle": "2021-09-25T11:22:14.501470Z",
     "shell.execute_reply": "2021-09-25T11:22:14.501005Z",
     "shell.execute_reply.started": "2021-09-25T06:54:38.816322Z"
    },
    "papermill": {
     "duration": 1.063513,
     "end_time": "2021-09-25T11:22:14.501646",
     "exception": false,
     "start_time": "2021-09-25T11:22:13.438133",
     "status": "completed"
    },
    "tags": []
   },
   "outputs": [
    {
     "data": {
      "image/png": "[encoded data removed]",
      "text/plain": [
       "<Figure size 720x360 with 2 Axes>"
      ]
     },
     "metadata": {
      "needs_background": "light"
     },
     "output_type": "display_data"
    }
   ],
   "source": [
    "plt.figure(figsize = (10, 5))\n",
    "sns.heatmap(smart_grid.corr(), fmt=\".2f\", annot=True);  # default pearson"
   ]
  },
  {
   "cell_type": "markdown",
   "id": "circular-accountability",
   "metadata": {
    "papermill": {
     "duration": 0.038971,
     "end_time": "2021-09-25T11:22:14.580413",
     "exception": false,
     "start_time": "2021-09-25T11:22:14.541442",
     "status": "completed"
    },
    "tags": []
   },
   "source": [
    "The correlation between stability (`stab` or `stabf`) and `delay[x]` or `adapt[x]` columns were weak, whereas there was no obvious relationship between `power[x]` columns and stability.\n",
    "\n",
    "`power1` (power generated) was correlated with the other `power[x]` columns (power consumed), as expected, but there was no obvious correlation within `delay[x]` or `adapt[x]` columns."
   ]
  },
  {
   "cell_type": "code",
   "execution_count": 9,
   "id": "tribal-bangladesh",
   "metadata": {
    "_kg_hide-input": true,
    "execution": {
     "iopub.execute_input": "2021-09-25T11:22:14.668453Z",
     "iopub.status.busy": "2021-09-25T11:22:14.667317Z",
     "iopub.status.idle": "2021-09-25T11:22:14.831458Z",
     "shell.execute_reply": "2021-09-25T11:22:14.832362Z",
     "shell.execute_reply.started": "2021-09-25T08:45:08.762352Z"
    },
    "papermill": {
     "duration": 0.21281,
     "end_time": "2021-09-25T11:22:14.832634",
     "exception": false,
     "start_time": "2021-09-25T11:22:14.619824",
     "status": "completed"
    },
    "tags": []
   },
   "outputs": [
    {
     "name": "stderr",
     "output_type": "stream",
     "text": [
      "/opt/conda/lib/python3.7/site-packages/statsmodels/stats/outliers_influence.py:193: RuntimeWarning: divide by zero encountered in double_scalars\n",
      "  vif = 1. / (1. - r_squared_i)\n"
     ]
    },
    {
     "data": {
      "text/html": [
       "<div>\n",
       "<style scoped>\n",
       "    .dataframe tbody tr th:only-of-type {\n",
       "        vertical-align: middle;\n",
       "    }\n",
       "\n",
       "    .dataframe tbody tr th {\n",
       "        vertical-align: top;\n",
       "    }\n",
       "\n",
       "    .dataframe thead th {\n",
       "        text-align: right;\n",
       "    }\n",
       "</style>\n",
       "<table border=\"1\" class=\"dataframe\">\n",
       "  <thead>\n",
       "    <tr style=\"text-align: right;\">\n",
       "      <th></th>\n",
       "      <th>delay1</th>\n",
       "      <th>delay2</th>\n",
       "      <th>delay3</th>\n",
       "      <th>delay4</th>\n",
       "      <th>power1</th>\n",
       "      <th>power2</th>\n",
       "      <th>power3</th>\n",
       "      <th>power4</th>\n",
       "      <th>adapt1</th>\n",
       "      <th>adapt2</th>\n",
       "      <th>adapt3</th>\n",
       "      <th>adapt4</th>\n",
       "    </tr>\n",
       "  </thead>\n",
       "  <tbody>\n",
       "    <tr>\n",
       "      <th>VIF</th>\n",
       "      <td>4.411883</td>\n",
       "      <td>4.373177</td>\n",
       "      <td>4.387577</td>\n",
       "      <td>4.342155</td>\n",
       "      <td>inf</td>\n",
       "      <td>inf</td>\n",
       "      <td>inf</td>\n",
       "      <td>inf</td>\n",
       "      <td>4.358228</td>\n",
       "      <td>4.39541</td>\n",
       "      <td>4.3677</td>\n",
       "      <td>4.321428</td>\n",
       "    </tr>\n",
       "  </tbody>\n",
       "</table>\n",
       "</div>"
      ],
      "text/plain": [
       "       delay1    delay2    delay3    delay4  power1  power2  power3  power4  \\\n",
       "VIF  4.411883  4.373177  4.387577  4.342155     inf     inf     inf     inf   \n",
       "\n",
       "       adapt1   adapt2  adapt3    adapt4  \n",
       "VIF  4.358228  4.39541  4.3677  4.321428  "
      ]
     },
     "execution_count": 9,
     "metadata": {},
     "output_type": "execute_result"
    }
   ],
   "source": [
    "# https://www.researchgate.net/post/Multicollinearity_issues_is_a_value_less_than_10_acceptable_for_VIF\n",
    "feat_cols = smart_grid.drop([\"stab\", \"stabf\"], axis=1).columns\n",
    "\n",
    "(pd.DataFrame({\n",
    "    \"variables\": smart_grid[feat_cols].columns,\n",
    "    \"VIF\": [variance_inflation_factor(smart_grid[feat_cols].values, ind)\n",
    "            for ind in range(len(feat_cols))]\n",
    "})\n",
    " .rename({\"variables\": \"\"}, axis=1)\n",
    " .set_index(\"\")\n",
    " .transpose()\n",
    ")"
   ]
  },
  {
   "cell_type": "markdown",
   "id": "blocked-ridge",
   "metadata": {
    "papermill": {
     "duration": 0.047362,
     "end_time": "2021-09-25T11:22:14.959331",
     "exception": false,
     "start_time": "2021-09-25T11:22:14.911969",
     "status": "completed"
    },
    "tags": []
   },
   "source": [
    "Both Pearson correlation and variance inflation factor suggested `power[x]` columns may be collinear, so I should remove the producer `power1` column."
   ]
  },
  {
   "cell_type": "code",
   "execution_count": 10,
   "id": "julian-filing",
   "metadata": {
    "_kg_hide-input": true,
    "execution": {
     "iopub.execute_input": "2021-09-25T11:22:15.066530Z",
     "iopub.status.busy": "2021-09-25T11:22:15.064100Z",
     "iopub.status.idle": "2021-09-25T11:22:17.644904Z",
     "shell.execute_reply": "2021-09-25T11:22:17.644402Z",
     "shell.execute_reply.started": "2021-09-25T06:54:40.163925Z"
    },
    "papermill": {
     "duration": 2.644362,
     "end_time": "2021-09-25T11:22:17.645050",
     "exception": false,
     "start_time": "2021-09-25T11:22:15.000688",
     "status": "completed"
    },
    "tags": []
   },
   "outputs": [
    {
     "data": {
      "image/png": "[encoded data removed]",
      "text/plain": [
       "<Figure size 720x360 with 12 Axes>"
      ]
     },
     "metadata": {
      "needs_background": "light"
     },
     "output_type": "display_data"
    }
   ],
   "source": [
    "fig, axs = plt.subplots(3, 4, figsize=(10, 5))\n",
    "plt.subplots_adjust(wspace=0.3, hspace=0.5)\n",
    "\n",
    "for row_ind, feat_type in enumerate([\"delay\", \"power\", \"adapt\"]):\n",
    "    for col_ind in range(4):\n",
    "        show_legend = True if (row_ind == 0) & (col_ind == 3) else False\n",
    "        sns.histplot(\n",
    "            smart_grid, x=feat_type + str(col_ind + 1), hue=\"stabf\",\n",
    "            multiple=\"fill\", legend=show_legend,\n",
    "            ax=axs[row_ind, col_ind]\n",
    "        )\n",
    "        \n",
    "        if col_ind > 0:\n",
    "            axs[row_ind, col_ind].set_ylabel(\"\")"
   ]
  },
  {
   "cell_type": "markdown",
   "id": "mounted-irrigation",
   "metadata": {
    "papermill": {
     "duration": 0.040428,
     "end_time": "2021-09-25T11:22:17.726297",
     "exception": false,
     "start_time": "2021-09-25T11:22:17.685869",
     "status": "completed"
    },
    "tags": []
   },
   "source": [
    "Share of unstable events:\n",
    "- increased with reaction delay (of both producers and consumers) until roughly 5 seconds, after which the share of unstable events was relatively unaffected by further increases in delay times\n",
    "- increased linearly with willingness to adapt (of both producers and consumers)\n",
    "- still seemed uncorrelated with amount of power produced or consumed"
   ]
  },
  {
   "cell_type": "code",
   "execution_count": 11,
   "id": "native-background",
   "metadata": {
    "_kg_hide-input": true,
    "execution": {
     "iopub.execute_input": "2021-09-25T11:22:17.812620Z",
     "iopub.status.busy": "2021-09-25T11:22:17.812015Z",
     "iopub.status.idle": "2021-09-25T11:22:18.355929Z",
     "shell.execute_reply": "2021-09-25T11:22:18.356649Z",
     "shell.execute_reply.started": "2021-09-25T06:54:43.250949Z"
    },
    "papermill": {
     "duration": 0.590135,
     "end_time": "2021-09-25T11:22:18.356870",
     "exception": false,
     "start_time": "2021-09-25T11:22:17.766735",
     "status": "completed"
    },
    "tags": []
   },
   "outputs": [
    {
     "data": {
      "image/png": "[encoded data removed]",
      "text/plain": [
       "<Figure size 432x288 with 1 Axes>"
      ]
     },
     "metadata": {
      "needs_background": "light"
     },
     "output_type": "display_data"
    }
   ],
   "source": [
    "(smart_grid\n",
    " .assign(\n",
    "     sum_delay = lambda x: x[\"delay1\"] + x[\"delay2\"] + x[\"delay3\"] + x[\"delay4\"],\n",
    "     sum_adapt = lambda x: x[\"adapt1\"] + x[\"adapt2\"] + x[\"adapt3\"] + x[\"adapt4\"]\n",
    " )\n",
    " .pipe((sns.scatterplot, \"data\"), \n",
    "       x=\"sum_delay\", y=\"sum_adapt\", hue=\"stabf\", alpha=0.2)\n",
    ");"
   ]
  },
  {
   "cell_type": "markdown",
   "id": "deadly-turkey",
   "metadata": {
    "papermill": {
     "duration": 0.044634,
     "end_time": "2021-09-25T11:22:18.452887",
     "exception": false,
     "start_time": "2021-09-25T11:22:18.408253",
     "status": "completed"
    },
    "tags": []
   },
   "source": [
    "Together, very high or very low sums of `delay[x]` and `adapt[x]` values should be indicators of (in)stability. Without further processing, these summarised values would highly correlate with existing features, so I'd rather keep the individual features. In contrast, it might be worth removing all `power[x]` columns if they're unhelpful."
   ]
  },
  {
   "cell_type": "markdown",
   "id": "generic-platform",
   "metadata": {
    "papermill": {
     "duration": 0.043947,
     "end_time": "2021-09-25T11:22:18.541009",
     "exception": false,
     "start_time": "2021-09-25T11:22:18.497062",
     "status": "completed"
    },
    "tags": []
   },
   "source": [
    "Back to [Overview](#overview)\n",
    "\n",
    "<a id=\"build-baseline-models\"></a>\n",
    "### Build baseline models\n",
    "\n",
    "*Fit baseline models (include feature scaling in pipeline to avoid data leakage but allow for easy adjustments when optimising), use feature/permutation importance and coefficients to confirm feature selection, check for overfitting*\n",
    "\n",
    "I first split the data, holding out 20% as the test set and using stratification to keep a consistent class share for the classification task:"
   ]
  },
  {
   "cell_type": "code",
   "execution_count": 12,
   "id": "reflected-stephen",
   "metadata": {
    "execution": {
     "iopub.execute_input": "2021-09-25T11:22:18.644956Z",
     "iopub.status.busy": "2021-09-25T11:22:18.644208Z",
     "iopub.status.idle": "2021-09-25T11:22:18.660049Z",
     "shell.execute_reply": "2021-09-25T11:22:18.659343Z",
     "shell.execute_reply.started": "2021-09-25T09:54:08.328126Z"
    },
    "papermill": {
     "duration": 0.072073,
     "end_time": "2021-09-25T11:22:18.660201",
     "exception": false,
     "start_time": "2021-09-25T11:22:18.588128",
     "status": "completed"
    },
    "tags": []
   },
   "outputs": [],
   "source": [
    "# following conventions, X contains the features and y contains the labels\n",
    "X = smart_grid.drop([\"stab\", \"stabf\"], axis=1)\n",
    "y = smart_grid[[\"stab\", \"stabf\"]]\n",
    "\n",
    "X_train_val_, X_test_, y_train_val, y_test = \\\n",
    "    train_test_split(X, y, test_size=0.2, stratify=y[\"stabf\"], random_state=0)\n",
    "\n",
    "# unsure about how X should be processed at the moment\n",
    "X_train_val_w_pwr = X_train_val_.drop([\"power1\"], axis=1)\n",
    "X_train_val_no_pwr = (X_train_val_\n",
    "                      .drop([\"power1\", \"power2\", \"power3\", \"power4\"], axis=1))\n",
    "# labels for both tasks\n",
    "clf_y_train_val, clf_y_test = y_train_val[\"stabf\"], y_test[\"stabf\"]\n",
    "reg_y_train_val, reg_y_test = y_train_val[\"stab\"], y_test[\"stab\"]\n",
    "\n",
    "assert all(clf_y_train_val.value_counts(normalize=True) == \\\n",
    "    clf_y_test.value_counts(normalize=True)), \\\n",
    "    \"inconsistent class share afer split\""
   ]
  },
  {
   "cell_type": "markdown",
   "id": "stupid-sterling",
   "metadata": {
    "papermill": {
     "duration": 0.04424,
     "end_time": "2021-09-25T11:22:18.754567",
     "exception": false,
     "start_time": "2021-09-25T11:22:18.710327",
     "status": "completed"
    },
    "tags": []
   },
   "source": [
    "To get a better understanding of the data and which models perform well, I fitted a few models using 5-fold cross validation to two versions of the data (with or without the consumer `power[x]` features):"
   ]
  },
  {
   "cell_type": "code",
   "execution_count": 13,
   "id": "prostate-suite",
   "metadata": {
    "execution": {
     "iopub.execute_input": "2021-09-25T11:22:18.852463Z",
     "iopub.status.busy": "2021-09-25T11:22:18.851861Z",
     "iopub.status.idle": "2021-09-25T11:22:18.855353Z",
     "shell.execute_reply": "2021-09-25T11:22:18.854845Z",
     "shell.execute_reply.started": "2021-09-25T09:54:10.110143Z"
    },
    "papermill": {
     "duration": 0.055587,
     "end_time": "2021-09-25T11:22:18.855491",
     "exception": false,
     "start_time": "2021-09-25T11:22:18.799904",
     "status": "completed"
    },
    "tags": []
   },
   "outputs": [
    {
     "name": "stdout",
     "output_type": "stream",
     "text": [
      "For classifiers: StratifiedKFold(n_splits=5, random_state=1, shuffle=True)\n",
      "For regressors: KFold(n_splits=5, random_state=1, shuffle=True)\n"
     ]
    }
   ],
   "source": [
    "# classifiers\n",
    "log_reg = LogisticRegression(random_state=1)\n",
    "rfc = RandomForestClassifier(random_state=1)\n",
    "knc = KNeighborsClassifier()\n",
    "lgbc = LGBMClassifier(random_state=1)\n",
    "svc = SVC()\n",
    "\n",
    "# regressors\n",
    "lin_reg = LinearRegression()\n",
    "rfr = RandomForestRegressor(random_state=1)\n",
    "knr = KNeighborsRegressor()\n",
    "lgbr = LGBMRegressor(random_state=1)\n",
    "svr = SVR()\n",
    "\n",
    "# cross-validation splitters\n",
    "skf = StratifiedKFold(random_state=1, shuffle=True)\n",
    "kf = KFold(random_state=1, shuffle=True)\n",
    "print(\"For classifiers:\", skf)\n",
    "print(\"For regressors:\", kf)"
   ]
  },
  {
   "cell_type": "code",
   "execution_count": 14,
   "id": "favorite-grant",
   "metadata": {
    "_kg_hide-input": true,
    "execution": {
     "iopub.execute_input": "2021-09-25T11:22:18.958142Z",
     "iopub.status.busy": "2021-09-25T11:22:18.957470Z",
     "iopub.status.idle": "2021-09-25T11:23:53.895880Z",
     "shell.execute_reply": "2021-09-25T11:23:53.896339Z",
     "shell.execute_reply.started": "2021-09-25T09:54:12.014907Z"
    },
    "papermill": {
     "duration": 94.996545,
     "end_time": "2021-09-25T11:23:53.896516",
     "exception": false,
     "start_time": "2021-09-25T11:22:18.899971",
     "status": "completed"
    },
    "tags": []
   },
   "outputs": [
    {
     "data": {
      "text/html": [
       "<style  type=\"text/css\" >\n",
       "</style><table id=\"T_60fe0_\" style='display:inline'><caption>Baseline classifier accuracy (with power columns)</caption><thead>    <tr>        <th class=\"blank level0\" ></th>        <th class=\"col_heading level0 col0\" >fit_time_s</th>        <th class=\"col_heading level0 col1\" >train_score</th>        <th class=\"col_heading level0 col2\" >val_score</th>    </tr>    <tr>        <th class=\"index_name level0\" >estimator</th>        <th class=\"blank\" ></th>        <th class=\"blank\" ></th>        <th class=\"blank\" ></th>    </tr></thead><tbody>\n",
       "                <tr>\n",
       "                        <th id=\"T_60fe0_level0_row0\" class=\"row_heading level0 row0\" >svc</th>\n",
       "                        <td id=\"T_60fe0_row0_col0\" class=\"data row0 col0\" >0.766715</td>\n",
       "                        <td id=\"T_60fe0_row0_col1\" class=\"data row0 col1\" >97.8%</td>\n",
       "                        <td id=\"T_60fe0_row0_col2\" class=\"data row0 col2\" >95.7%</td>\n",
       "            </tr>\n",
       "            <tr>\n",
       "                        <th id=\"T_60fe0_level0_row1\" class=\"row_heading level0 row1\" >lgbc</th>\n",
       "                        <td id=\"T_60fe0_row1_col0\" class=\"data row1 col0\" >0.199482</td>\n",
       "                        <td id=\"T_60fe0_row1_col1\" class=\"data row1 col1\" >100.0%</td>\n",
       "                        <td id=\"T_60fe0_row1_col2\" class=\"data row1 col2\" >93.9%</td>\n",
       "            </tr>\n",
       "            <tr>\n",
       "                        <th id=\"T_60fe0_level0_row2\" class=\"row_heading level0 row2\" >rfc</th>\n",
       "                        <td id=\"T_60fe0_row2_col0\" class=\"data row2 col0\" >1.709569</td>\n",
       "                        <td id=\"T_60fe0_row2_col1\" class=\"data row2 col1\" >100.0%</td>\n",
       "                        <td id=\"T_60fe0_row2_col2\" class=\"data row2 col2\" >91.5%</td>\n",
       "            </tr>\n",
       "            <tr>\n",
       "                        <th id=\"T_60fe0_level0_row3\" class=\"row_heading level0 row3\" >knc</th>\n",
       "                        <td id=\"T_60fe0_row3_col0\" class=\"data row3 col0\" >0.011315</td>\n",
       "                        <td id=\"T_60fe0_row3_col1\" class=\"data row3 col1\" >91.7%</td>\n",
       "                        <td id=\"T_60fe0_row3_col2\" class=\"data row3 col2\" >85.8%</td>\n",
       "            </tr>\n",
       "            <tr>\n",
       "                        <th id=\"T_60fe0_level0_row4\" class=\"row_heading level0 row4\" >log_reg</th>\n",
       "                        <td id=\"T_60fe0_row4_col0\" class=\"data row4 col0\" >0.027013</td>\n",
       "                        <td id=\"T_60fe0_row4_col1\" class=\"data row4 col1\" >81.5%</td>\n",
       "                        <td id=\"T_60fe0_row4_col2\" class=\"data row4 col2\" >81.5%</td>\n",
       "            </tr>\n",
       "    </tbody></table>  <style  type=\"text/css\" >\n",
       "</style><table id=\"T_44686_\" style='display:inline'><caption>Baseline classifier accuracy (no power columns)</caption><thead>    <tr>        <th class=\"blank level0\" ></th>        <th class=\"col_heading level0 col0\" >fit_time_s</th>        <th class=\"col_heading level0 col1\" >train_score</th>        <th class=\"col_heading level0 col2\" >val_score</th>    </tr>    <tr>        <th class=\"index_name level0\" >estimator</th>        <th class=\"blank\" ></th>        <th class=\"blank\" ></th>        <th class=\"blank\" ></th>    </tr></thead><tbody>\n",
       "                <tr>\n",
       "                        <th id=\"T_44686_level0_row0\" class=\"row_heading level0 row0\" >svc</th>\n",
       "                        <td id=\"T_44686_row0_col0\" class=\"data row0 col0\" >0.561620</td>\n",
       "                        <td id=\"T_44686_row0_col1\" class=\"data row0 col1\" >98.0%</td>\n",
       "                        <td id=\"T_44686_row0_col2\" class=\"data row0 col2\" >96.8%</td>\n",
       "            </tr>\n",
       "            <tr>\n",
       "                        <th id=\"T_44686_level0_row1\" class=\"row_heading level0 row1\" >lgbc</th>\n",
       "                        <td id=\"T_44686_row1_col0\" class=\"data row1 col0\" >0.168001</td>\n",
       "                        <td id=\"T_44686_row1_col1\" class=\"data row1 col1\" >100.0%</td>\n",
       "                        <td id=\"T_44686_row1_col2\" class=\"data row1 col2\" >94.1%</td>\n",
       "            </tr>\n",
       "            <tr>\n",
       "                        <th id=\"T_44686_level0_row2\" class=\"row_heading level0 row2\" >rfc</th>\n",
       "                        <td id=\"T_44686_row2_col0\" class=\"data row2 col0\" >1.224323</td>\n",
       "                        <td id=\"T_44686_row2_col1\" class=\"data row2 col1\" >100.0%</td>\n",
       "                        <td id=\"T_44686_row2_col2\" class=\"data row2 col2\" >92.0%</td>\n",
       "            </tr>\n",
       "            <tr>\n",
       "                        <th id=\"T_44686_level0_row3\" class=\"row_heading level0 row3\" >knc</th>\n",
       "                        <td id=\"T_44686_row3_col0\" class=\"data row3 col0\" >0.009462</td>\n",
       "                        <td id=\"T_44686_row3_col1\" class=\"data row3 col1\" >94.0%</td>\n",
       "                        <td id=\"T_44686_row3_col2\" class=\"data row3 col2\" >89.2%</td>\n",
       "            </tr>\n",
       "            <tr>\n",
       "                        <th id=\"T_44686_level0_row4\" class=\"row_heading level0 row4\" >log_reg</th>\n",
       "                        <td id=\"T_44686_row4_col0\" class=\"data row4 col0\" >0.023048</td>\n",
       "                        <td id=\"T_44686_row4_col1\" class=\"data row4 col1\" >81.4%</td>\n",
       "                        <td id=\"T_44686_row4_col2\" class=\"data row4 col2\" >81.4%</td>\n",
       "            </tr>\n",
       "    </tbody></table><br/><br/><style  type=\"text/css\" >\n",
       "</style><table id=\"T_06e57_\" style='display:inline'><caption>Baseline regressor R2 (with power columns)</caption><thead>    <tr>        <th class=\"blank level0\" ></th>        <th class=\"col_heading level0 col0\" >fit_time_s</th>        <th class=\"col_heading level0 col1\" >train_score</th>        <th class=\"col_heading level0 col2\" >val_score</th>    </tr>    <tr>        <th class=\"index_name level0\" >estimator</th>        <th class=\"blank\" ></th>        <th class=\"blank\" ></th>        <th class=\"blank\" ></th>    </tr></thead><tbody>\n",
       "                <tr>\n",
       "                        <th id=\"T_06e57_level0_row0\" class=\"row_heading level0 row0\" >lgbr</th>\n",
       "                        <td id=\"T_06e57_row0_col0\" class=\"data row0 col0\" >0.170135</td>\n",
       "                        <td id=\"T_06e57_row0_col1\" class=\"data row0 col1\" >97.7%</td>\n",
       "                        <td id=\"T_06e57_row0_col2\" class=\"data row0 col2\" >94.5%</td>\n",
       "            </tr>\n",
       "            <tr>\n",
       "                        <th id=\"T_06e57_level0_row1\" class=\"row_heading level0 row1\" >rfr</th>\n",
       "                        <td id=\"T_06e57_row1_col0\" class=\"data row1 col0\" >5.167355</td>\n",
       "                        <td id=\"T_06e57_row1_col1\" class=\"data row1 col1\" >98.5%</td>\n",
       "                        <td id=\"T_06e57_row1_col2\" class=\"data row1 col2\" >89.3%</td>\n",
       "            </tr>\n",
       "            <tr>\n",
       "                        <th id=\"T_06e57_level0_row2\" class=\"row_heading level0 row2\" >knr</th>\n",
       "                        <td id=\"T_06e57_row2_col0\" class=\"data row2 col0\" >0.010553</td>\n",
       "                        <td id=\"T_06e57_row2_col1\" class=\"data row2 col1\" >85.3%</td>\n",
       "                        <td id=\"T_06e57_row2_col2\" class=\"data row2 col2\" >78.3%</td>\n",
       "            </tr>\n",
       "            <tr>\n",
       "                        <th id=\"T_06e57_level0_row3\" class=\"row_heading level0 row3\" >lin_reg</th>\n",
       "                        <td id=\"T_06e57_row3_col0\" class=\"data row3 col0\" >0.010917</td>\n",
       "                        <td id=\"T_06e57_row3_col1\" class=\"data row3 col1\" >65.0%</td>\n",
       "                        <td id=\"T_06e57_row3_col2\" class=\"data row3 col2\" >64.9%</td>\n",
       "            </tr>\n",
       "            <tr>\n",
       "                        <th id=\"T_06e57_level0_row4\" class=\"row_heading level0 row4\" >svr</th>\n",
       "                        <td id=\"T_06e57_row4_col0\" class=\"data row4 col0\" >0.004821</td>\n",
       "                        <td id=\"T_06e57_row4_col1\" class=\"data row4 col1\" >-0.3%</td>\n",
       "                        <td id=\"T_06e57_row4_col2\" class=\"data row4 col2\" >-0.5%</td>\n",
       "            </tr>\n",
       "    </tbody></table>  <style  type=\"text/css\" >\n",
       "</style><table id=\"T_19492_\" style='display:inline'><caption>Baseline regressor R2 (no power columns)</caption><thead>    <tr>        <th class=\"blank level0\" ></th>        <th class=\"col_heading level0 col0\" >fit_time_s</th>        <th class=\"col_heading level0 col1\" >train_score</th>        <th class=\"col_heading level0 col2\" >val_score</th>    </tr>    <tr>        <th class=\"index_name level0\" >estimator</th>        <th class=\"blank\" ></th>        <th class=\"blank\" ></th>        <th class=\"blank\" ></th>    </tr></thead><tbody>\n",
       "                <tr>\n",
       "                        <th id=\"T_19492_level0_row0\" class=\"row_heading level0 row0\" >lgbr</th>\n",
       "                        <td id=\"T_19492_row0_col0\" class=\"data row0 col0\" >0.139463</td>\n",
       "                        <td id=\"T_19492_row0_col1\" class=\"data row0 col1\" >97.8%</td>\n",
       "                        <td id=\"T_19492_row0_col2\" class=\"data row0 col2\" >94.6%</td>\n",
       "            </tr>\n",
       "            <tr>\n",
       "                        <th id=\"T_19492_level0_row1\" class=\"row_heading level0 row1\" >rfr</th>\n",
       "                        <td id=\"T_19492_row1_col0\" class=\"data row1 col0\" >3.862998</td>\n",
       "                        <td id=\"T_19492_row1_col1\" class=\"data row1 col1\" >98.6%</td>\n",
       "                        <td id=\"T_19492_row1_col2\" class=\"data row1 col2\" >90.0%</td>\n",
       "            </tr>\n",
       "            <tr>\n",
       "                        <th id=\"T_19492_level0_row2\" class=\"row_heading level0 row2\" >knr</th>\n",
       "                        <td id=\"T_19492_row2_col0\" class=\"data row2 col0\" >0.008516</td>\n",
       "                        <td id=\"T_19492_row2_col1\" class=\"data row2 col1\" >91.3%</td>\n",
       "                        <td id=\"T_19492_row2_col2\" class=\"data row2 col2\" >87.3%</td>\n",
       "            </tr>\n",
       "            <tr>\n",
       "                        <th id=\"T_19492_level0_row3\" class=\"row_heading level0 row3\" >lin_reg</th>\n",
       "                        <td id=\"T_19492_row3_col0\" class=\"data row3 col0\" >0.006854</td>\n",
       "                        <td id=\"T_19492_row3_col1\" class=\"data row3 col1\" >65.0%</td>\n",
       "                        <td id=\"T_19492_row3_col2\" class=\"data row3 col2\" >64.9%</td>\n",
       "            </tr>\n",
       "            <tr>\n",
       "                        <th id=\"T_19492_level0_row4\" class=\"row_heading level0 row4\" >svr</th>\n",
       "                        <td id=\"T_19492_row4_col0\" class=\"data row4 col0\" >0.004367</td>\n",
       "                        <td id=\"T_19492_row4_col1\" class=\"data row4 col1\" >-0.3%</td>\n",
       "                        <td id=\"T_19492_row4_col2\" class=\"data row4 col2\" >-0.5%</td>\n",
       "            </tr>\n",
       "    </tbody></table>"
      ]
     },
     "metadata": {},
     "output_type": "display_data"
    }
   ],
   "source": [
    "def get_baseline_scores(est_names, X_train, y_train_val, cv):\n",
    "    baseline_scores_list = []\n",
    "    for est_name in est_names:\n",
    "        pipe = Pipeline(steps=[(\"scaler\", StandardScaler()),\n",
    "                               (\"estimator\", globals()[est_name])])\n",
    "        \n",
    "        est_res = cross_validate(pipe,\n",
    "                                 # https://github.com/dmlc/xgboost/issues/6908,\n",
    "                                 np.ascontiguousarray(X_train),\n",
    "                                 y_train_val,\n",
    "                                 cv=cv, return_train_score=True)\n",
    "        baseline_scores_list.append(\n",
    "            pd.DataFrame({\"estimator\": est_name, \n",
    "                          \"train_score\": est_res.get(\"train_score\"),\n",
    "                          \"val_score\": est_res.get(\"test_score\"), \n",
    "                          \"fit_time_s\": est_res.get(\"fit_time\")\n",
    "                         }))\n",
    "    baseline_scores_df = (pd.concat(baseline_scores_list)\n",
    "                          .sort_values(\"val_score\", ascending=False))\n",
    "    return baseline_scores_df\n",
    "\n",
    "\n",
    "def fmt_bl_scores(scores_df, caption):\n",
    "    metric_cols = [\"train_score\", \"val_score\", \"fit_time_s\"]\n",
    "    final_df = (scores_df\n",
    "                .pipe(pd.pivot_table, \n",
    "                      values=metric_cols, \n",
    "                      index=\"estimator\", \n",
    "                      aggfunc={columns: np.mean for columns in metric_cols})\n",
    "                .sort_values(\"val_score\", ascending=False)\n",
    "                \n",
    "                # display options\n",
    "                .style.format(\"{:.1%}\", subset=[\"train_score\", \"val_score\"])\n",
    "                .set_table_attributes(\"style='display:inline'\")\n",
    "                .set_caption(caption)._repr_html_())\n",
    "    return final_df\n",
    "\n",
    "blc_w_pwr = get_baseline_scores([\"log_reg\", \"rfc\", \"knc\", \"lgbc\", \"svc\"],\n",
    "                                X_train_val_w_pwr, clf_y_train_val, skf)\n",
    "blc_no_pwr = get_baseline_scores([\"log_reg\", \"rfc\", \"knc\", \"lgbc\", \"svc\"],\n",
    "                                 X_train_val_no_pwr, clf_y_train_val, skf)\n",
    "\n",
    "blr_w_pwr = get_baseline_scores([\"lin_reg\", \"rfr\", \"knr\", \"lgbr\", \"svr\"],\n",
    "                                X_train_val_w_pwr, reg_y_train_val, kf)\n",
    "blr_no_pwr = get_baseline_scores([\"lin_reg\", \"rfr\", \"knr\", \"lgbr\", \"svr\"],\n",
    "                                 X_train_val_no_pwr, reg_y_train_val, kf)\n",
    "        \n",
    "display_html(\n",
    "    fmt_bl_scores(blc_w_pwr, \n",
    "                  \"Baseline classifier accuracy (with power columns)\") +\n",
    "    \"\\xa0\" * 2 +  # so both still fit in a line on small screens\n",
    "    fmt_bl_scores(blc_no_pwr, \n",
    "                  \"Baseline classifier accuracy (no power columns)\") +\n",
    "    \"<br/><br/>\" +\n",
    "    fmt_bl_scores(blr_w_pwr,\n",
    "                  \"Baseline regressor R2 (with power columns)\") +\n",
    "    \"\\xa0\" * 2 +\n",
    "    fmt_bl_scores(blr_no_pwr, \n",
    "                  \"Baseline regressor R2 (no power columns)\"),\n",
    "    raw=True\n",
    ")"
   ]
  },
  {
   "cell_type": "markdown",
   "id": "graduate-license",
   "metadata": {
    "papermill": {
     "duration": 0.052558,
     "end_time": "2021-09-25T11:23:53.994633",
     "exception": false,
     "start_time": "2021-09-25T11:23:53.942075",
     "status": "completed"
    },
    "tags": []
   },
   "source": [
    "Removing the consumer `power[x]` columns increased accuracy scores for the top four out of five classifiers, and maintained or increased the R<sup>2</sup> score for all regressors. To get a better feel for whether the `power[x]` columns add useful information, I looked at the feature/permutation importance in tree-based models and absolute values of coefficients in L1-penalised linear models for each feature. As examples, I'm showing one type each for classification and regression models:"
   ]
  },
  {
   "cell_type": "code",
   "execution_count": 15,
   "id": "still-dutch",
   "metadata": {
    "_kg_hide-input": true,
    "execution": {
     "iopub.execute_input": "2021-09-25T11:23:54.120535Z",
     "iopub.status.busy": "2021-09-25T11:23:54.119609Z",
     "iopub.status.idle": "2021-09-25T11:24:13.820639Z",
     "shell.execute_reply": "2021-09-25T11:24:13.821101Z",
     "shell.execute_reply.started": "2021-09-25T09:55:49.456916Z"
    },
    "papermill": {
     "duration": 19.764891,
     "end_time": "2021-09-25T11:24:13.821278",
     "exception": false,
     "start_time": "2021-09-25T11:23:54.056387",
     "status": "completed"
    },
    "tags": []
   },
   "outputs": [
    {
     "data": {
      "image/png": "[encoded data removed]",
      "text/plain": [
       "<Figure size 864x576 with 4 Axes>"
      ]
     },
     "metadata": {
      "needs_background": "light"
     },
     "output_type": "display_data"
    }
   ],
   "source": [
    "X_train_wp, X_val_wp, clf_y_train_wp, clf_y_val_wp = \\\n",
    "    train_test_split(X_train_val_w_pwr, clf_y_train_val, \n",
    "                     test_size = 0.3, random_state=0)\n",
    "X_train_wp, X_val_wp, reg_y_train_wp, reg_y_val_wp = \\\n",
    "    train_test_split(X_train_val_w_pwr, reg_y_train_val, \n",
    "                     test_size = 0.3, random_state=0)\n",
    "\n",
    "## LightGBM feature importances\n",
    "lgbc.fit(X_train_wp, clf_y_train_wp)\n",
    "\n",
    "## RF permutation importances (model agnostic method)\n",
    "rfr.fit(X_train_wp, reg_y_train_wp)\n",
    "rfr_pi_res = permutation_importance(rfr, X_train_wp, reg_y_train_wp,\n",
    "                                   n_repeats=10, random_state=0)\n",
    "rfr_pi_df = (pd.DataFrame(rfr_pi_res.get(\"importances\"),\n",
    "                         index=X_train_wp.columns,\n",
    "                         columns=[i + 1 for i in range(10)])\n",
    "            .reset_index()\n",
    "            .pipe(pd.melt,\n",
    "                  id_vars=[\"index\"], value_vars=[i + 1 for i in range(10)],\n",
    "                  var_name=\"rep\", value_name=\"permutation_importance\")\n",
    "            .rename(columns={\"index\": \"features\"}))\n",
    "rfr_pi_order = (rfr_pi_df.groupby(\"features\")\n",
    "               .mean(\"permutation_importance\")\n",
    "               .sort_values(\"permutation_importance\", ascending=False).index)\n",
    "\n",
    "## Logistic Regression/Linear SVC coefficients (L1-based)\n",
    "ss = StandardScaler()\n",
    "def plot_abs_coefs(model_inst, model_name, y_train, ax):\n",
    "    coefs_df = pd.DataFrame(\n",
    "        {\"features\": X_train_wp.columns,\n",
    "         \"coefficients\": (model_inst\n",
    "                          .fit(ss.fit_transform(X_train_wp), clf_y_train_wp)\n",
    "                          .coef_.flatten())}\n",
    "    ).assign(abs_coef = lambda x: x[\"coefficients\"].map(abs))\n",
    "    feat_order = (coefs_df\n",
    "                  .groupby(\"features\").mean(\"abs_coef\")\n",
    "                  .sort_values(\"abs_coef\", ascending=False).index)\n",
    "    (sns.barplot(data=coefs_df, x=\"abs_coef\", y=\"features\",\n",
    "                color=\"lightgrey\", order=feat_order, ax=ax)\n",
    "     .set(title=f\"Absolute values of {model_name} coefficients\"))\n",
    "    \n",
    "## Plots\n",
    "fig, axs = plt.subplots(2, 2, figsize=(12, 8))\n",
    "plt.subplots_adjust(wspace=0.3, hspace=0.4)\n",
    "\n",
    "plot_importance(lgbc, xlabel=\"Total gains of splits which use the feature\", \n",
    "                title=\"LightGBM Classifier feature importance\",\n",
    "                importance_type=\"gain\", precision=0, grid=False, ax=axs[0, 0])\n",
    "plot_abs_coefs(model_inst=LogisticRegression(solver=\"liblinear\", penalty=\"l1\"),\n",
    "               model_name=\"logistic regression\", \n",
    "               y_train=clf_y_train_wp, ax=axs[0, 1])\n",
    "\n",
    "sns.barplot(data=rfr_pi_df, x=\"permutation_importance\", y=\"features\",\n",
    "            ci=\"sd\", order=rfr_pi_order, color=\"lightgrey\",\n",
    "            ax=axs[1, 0]).set(title=\"RF Regressor permutation importance\")\n",
    "plot_abs_coefs(model_inst=LinearSVR(random_state=1, max_iter=2000),\n",
    "               model_name=\"linear SVR\", y_train=reg_y_train_wp, ax=axs[1, 1]);"
   ]
  },
  {
   "cell_type": "markdown",
   "id": "prospective-washer",
   "metadata": {
    "papermill": {
     "duration": 0.047464,
     "end_time": "2021-09-25T11:24:13.916704",
     "exception": false,
     "start_time": "2021-09-25T11:24:13.869240",
     "status": "completed"
    },
    "tags": []
   },
   "source": [
    "As suggested by the data exploration and baseline model performances, reaction delay and willingness to adapt seem to be much more relevant than amount of power consumed for both the classification and regression tasks. To me, this suggests the `power[x]` columns were adding more noise than signal, and should be removed moving forward:"
   ]
  },
  {
   "cell_type": "code",
   "execution_count": 16,
   "id": "ultimate-office",
   "metadata": {
    "execution": {
     "iopub.execute_input": "2021-09-25T11:24:14.021096Z",
     "iopub.status.busy": "2021-09-25T11:24:14.020290Z",
     "iopub.status.idle": "2021-09-25T11:24:14.023059Z",
     "shell.execute_reply": "2021-09-25T11:24:14.022603Z",
     "shell.execute_reply.started": "2021-09-25T09:55:54.153672Z"
    },
    "papermill": {
     "duration": 0.058967,
     "end_time": "2021-09-25T11:24:14.023186",
     "exception": false,
     "start_time": "2021-09-25T11:24:13.964219",
     "status": "completed"
    },
    "tags": []
   },
   "outputs": [],
   "source": [
    "def process_X(X_df):\n",
    "    final_df = X_df.drop([\"power1\", \"power2\", \"power3\", \"power4\"], axis=1)\n",
    "    return final_df\n",
    "\n",
    "X_train_val = process_X(X_train_val_)\n",
    "X_test = process_X(X_test_)"
   ]
  },
  {
   "cell_type": "code",
   "execution_count": 17,
   "id": "preceding-model",
   "metadata": {
    "_kg_hide-input": true,
    "execution": {
     "iopub.execute_input": "2021-09-25T11:24:14.141348Z",
     "iopub.status.busy": "2021-09-25T11:24:14.140702Z",
     "iopub.status.idle": "2021-09-25T11:24:14.734842Z",
     "shell.execute_reply": "2021-09-25T11:24:14.734271Z",
     "shell.execute_reply.started": "2021-09-25T06:56:39.830517Z"
    },
    "papermill": {
     "duration": 0.664527,
     "end_time": "2021-09-25T11:24:14.734981",
     "exception": false,
     "start_time": "2021-09-25T11:24:14.070454",
     "status": "completed"
    },
    "tags": []
   },
   "outputs": [
    {
     "data": {
      "image/png": "[encoded data removed]",
      "text/plain": [
       "<Figure size 720x576 with 2 Axes>"
      ]
     },
     "metadata": {
      "needs_background": "light"
     },
     "output_type": "display_data"
    }
   ],
   "source": [
    "fig, axs = plt.subplots(2, 1, figsize=(10, 8))\n",
    "plt.subplots_adjust(hspace=0.3)\n",
    "for metric_df, ax_pos, estimator, metric in \\\n",
    "    zip([blc_no_pwr, blr_no_pwr], [0, 1],\n",
    "        [\"classifier\", \"regressor\"], [\"accuracy\", \"R-squared\"]):\n",
    "    (metric_df\n",
    "     .pipe(pd.melt, \n",
    "           id_vars=\"estimator\", \n",
    "           value_vars=[\"train_score\", \"val_score\"], \n",
    "           var_name=\"metric_name\", value_name=\"metric_value\")\n",
    "     .pipe((sns.boxplot, \"data\"), x=\"metric_value\", y=\"estimator\", \n",
    "           hue=\"metric_name\", ax=axs[ax_pos])\n",
    "     .set(title=f\"Baseline {estimator} performance\",\n",
    "         xlim=(-0.05, None), xlabel=metric, ylabel=estimator))"
   ]
  },
  {
   "cell_type": "markdown",
   "id": "seasonal-parliament",
   "metadata": {
    "papermill": {
     "duration": 0.048589,
     "end_time": "2021-09-25T11:24:14.831747",
     "exception": false,
     "start_time": "2021-09-25T11:24:14.783158",
     "status": "completed"
    },
    "tags": []
   },
   "source": [
    "Focusing on models that were fitted on the data without power consumption columns, all classifiers scored over 80% on validation accuracy. Support Vector (`svc`), Light Gradient Boosting Machine (LightGBM, `lgbc`) and random forest (RF, `rfc`) models gave the best scores. Validation R<sup>2</sup> were extremely varied across regressors, with LightGBM (`lgbr`), RF (`rfr`) and K-Nearest Neighbour (`knr`) being the best performers.\n",
    "\n",
    "For both classification and regression, the LightGBM and RF models had close-to-perfect train scores. This could suggest overfitting, but is not uncommon for such ensemble models, since enough trees could have trained on each training case to outweigh those that didn't. Instead of scoring based on the default accuracy for classification and R<sup>2</sup> for regression, I could look at log loss and mean squared error (MSE), for example:"
   ]
  },
  {
   "cell_type": "code",
   "execution_count": 18,
   "id": "elder-teens",
   "metadata": {
    "_kg_hide-input": true,
    "execution": {
     "iopub.execute_input": "2021-09-25T11:24:14.937545Z",
     "iopub.status.busy": "2021-09-25T11:24:14.936369Z",
     "iopub.status.idle": "2021-09-25T11:24:15.567111Z",
     "shell.execute_reply": "2021-09-25T11:24:15.566503Z",
     "shell.execute_reply.started": "2021-09-25T09:56:46.066893Z"
    },
    "papermill": {
     "duration": 0.686921,
     "end_time": "2021-09-25T11:24:15.567256",
     "exception": false,
     "start_time": "2021-09-25T11:24:14.880335",
     "status": "completed"
    },
    "tags": []
   },
   "outputs": [
    {
     "data": {
      "image/png": "[encoded data removed]",
      "text/plain": [
       "<Figure size 720x216 with 2 Axes>"
      ]
     },
     "metadata": {
      "needs_background": "light"
     },
     "output_type": "display_data"
    }
   ],
   "source": [
    "X_train, X_val, clf_y_train, clf_y_val = \\\n",
    "    train_test_split(X_train_val, clf_y_train_val, \n",
    "                     test_size = 0.3, random_state=0)\n",
    "X_train, X_val, reg_y_train, reg_y_val = \\\n",
    "    train_test_split(X_train_val, reg_y_train_val, \n",
    "                     test_size = 0.3, random_state=0)\n",
    "\n",
    "fig, axs = plt.subplots(1, 2, figsize=(10, 3))\n",
    "plt.subplots_adjust(wspace=0.4)\n",
    "lgbc.fit(X_train, clf_y_train, \n",
    "        eval_set=[(X_train, clf_y_train), (X_val, clf_y_val)], \n",
    "        eval_names=[\"train set\", \"validation set\"], verbose=0)\n",
    "lgbr.fit(X_train, reg_y_train, \n",
    "        eval_set=[(X_train, reg_y_train), (X_val, reg_y_val)], \n",
    "        eval_names=[\"train set\", \"validation set\"], verbose=0)\n",
    "plot_metric(lgbc, title=\"Baseline LightGBM Classifier\",\n",
    "            xlabel=\"n_estimators\", grid=False, ax=axs[0])\n",
    "plot_metric(lgbr, title=\"Baseline LightGBM Regression\",\n",
    "            xlabel=\"n_estimators\", ylabel=\"MSE\", grid=False, ax=axs[1]);"
   ]
  },
  {
   "cell_type": "markdown",
   "id": "experimental-static",
   "metadata": {
    "papermill": {
     "duration": 0.04868,
     "end_time": "2021-09-25T11:24:15.665542",
     "exception": false,
     "start_time": "2021-09-25T11:24:15.616862",
     "status": "completed"
    },
    "tags": []
   },
   "source": [
    "For the LightGBM classifier, neither training nor validation log loss had decreased to a stable level. If anything, I think it was probably underfitted, so I can increase the learning rate and/or number of trees. The fit looks much better for the LightGBM regressor, but the validation MSE doesn't start to deviate from the train MSE again, so I think it's still not overfitted.\n",
    "\n",
    "Another way check the fit on training samples is to look at out-of-bag (OOB) scores in RF models (ie. calculate scores using only trees that didn't train on the particular training samples), for example:"
   ]
  },
  {
   "cell_type": "code",
   "execution_count": 19,
   "id": "italian-director",
   "metadata": {
    "_kg_hide-input": true,
    "execution": {
     "iopub.execute_input": "2021-09-25T11:24:15.772408Z",
     "iopub.status.busy": "2021-09-25T11:24:15.771452Z",
     "iopub.status.idle": "2021-09-25T11:24:24.988864Z",
     "shell.execute_reply": "2021-09-25T11:24:24.989297Z",
     "shell.execute_reply.started": "2021-09-25T09:57:10.146541Z"
    },
    "papermill": {
     "duration": 9.274673,
     "end_time": "2021-09-25T11:24:24.989468",
     "exception": false,
     "start_time": "2021-09-25T11:24:15.714795",
     "status": "completed"
    },
    "tags": []
   },
   "outputs": [
    {
     "data": {
      "text/html": [
       "<style  type=\"text/css\" >\n",
       "</style><table id=\"T_9dbeb_\" ><caption>Baseline RF performance</caption><thead>    <tr>        <th class=\"blank level0\" ></th>        <th class=\"col_heading level0 col0\" >classifier</th>        <th class=\"col_heading level0 col1\" >regressor</th>    </tr></thead><tbody>\n",
       "                <tr>\n",
       "                        <th id=\"T_9dbeb_level0_row0\" class=\"row_heading level0 row0\" >training set score</th>\n",
       "                        <td id=\"T_9dbeb_row0_col0\" class=\"data row0 col0\" >1.000</td>\n",
       "                        <td id=\"T_9dbeb_row0_col1\" class=\"data row0 col1\" >0.985</td>\n",
       "            </tr>\n",
       "            <tr>\n",
       "                        <th id=\"T_9dbeb_level0_row1\" class=\"row_heading level0 row1\" >training set OOB score</th>\n",
       "                        <td id=\"T_9dbeb_row1_col0\" class=\"data row1 col0\" >0.910</td>\n",
       "                        <td id=\"T_9dbeb_row1_col1\" class=\"data row1 col1\" >0.895</td>\n",
       "            </tr>\n",
       "            <tr>\n",
       "                        <th id=\"T_9dbeb_level0_row2\" class=\"row_heading level0 row2\" >validation set score</th>\n",
       "                        <td id=\"T_9dbeb_row2_col0\" class=\"data row2 col0\" >0.929</td>\n",
       "                        <td id=\"T_9dbeb_row2_col1\" class=\"data row2 col1\" >0.898</td>\n",
       "            </tr>\n",
       "    </tbody></table>"
      ],
      "text/plain": [
       "<pandas.io.formats.style.Styler at 0x7f4ed5cfbf10>"
      ]
     },
     "execution_count": 19,
     "metadata": {},
     "output_type": "execute_result"
    }
   ],
   "source": [
    "rfc.fit(X_train, clf_y_train)\n",
    "rfc_oob = RandomForestClassifier(oob_score=True, random_state=0)\n",
    "rfc_oob.fit(X_train, clf_y_train)\n",
    "\n",
    "rfr.fit(X_train, reg_y_train)\n",
    "rfr_oob = RandomForestRegressor(oob_score=True, random_state=0)\n",
    "rfr_oob.fit(X_train, reg_y_train)\n",
    "\n",
    "pd.DataFrame({\n",
    "    \"classifier\": [rfc.score(X_train, clf_y_train),\n",
    "                   rfc_oob.oob_score_,\n",
    "                   rfc.score(X_val, clf_y_val)],\n",
    "    \"regressor\": [rfr.score(X_train, reg_y_train),\n",
    "                  rfr_oob.oob_score_,\n",
    "                  rfr.score(X_val, reg_y_val)],\n",
    "}, index=[\"training set score\", \"training set OOB score\",\n",
    "          \"validation set score\"]\n",
    ").style.format(\"{:.3f}\").set_caption(\"Baseline RF performance\")"
   ]
  },
  {
   "cell_type": "markdown",
   "id": "returning-montana",
   "metadata": {
    "papermill": {
     "duration": 0.049151,
     "end_time": "2021-09-25T11:24:25.088396",
     "exception": false,
     "start_time": "2021-09-25T11:24:25.039245",
     "status": "completed"
    },
    "tags": []
   },
   "source": [
    "Unlike the default training scores, the OOB training scores were slightly lower than the validation scores for both tasks, so I don't think the baseline RF models were overfitted either."
   ]
  },
  {
   "cell_type": "markdown",
   "id": "facial-latvia",
   "metadata": {
    "papermill": {
     "duration": 0.049573,
     "end_time": "2021-09-25T11:24:25.188339",
     "exception": false,
     "start_time": "2021-09-25T11:24:25.138766",
     "status": "completed"
    },
    "tags": []
   },
   "source": [
    "Back to [Overview](#overview)\n",
    "\n",
    "<a id=\"optimise-models\"></a>\n",
    "### Optimise models\n",
    "*Hyperparameter tuning with randomised and grid searches*\n",
    "\n",
    "To search for optimised hyperparameters and feature transformers, I used exhaustive grid searches when the search space is small, otherwise randomly searched 60 conditions, which should give me [a close approximate](https://www.oreilly.com/library/view/evaluating-machine-learning/9781492048756/ch04.html) if at least 5% of the total conditions in the search space are close-to-optimal.\n",
    "\n",
    "The feature transformations I explored were: standardising the feature so it has a mean of 0 and standard deviation of 1 (`StandardScaler`), rescaling the feature using outlier-insensitive statistics (`RobustScaler`) or [collapsing any outliers](https://scikit-learn.org/stable/auto_examples/preprocessing/plot_all_scaling.html?highlight=scalers#quantiletransformer-uniform-output) (`QuantileTransformer`). For context, I also added `FunctionTransformer`, which allows me to exclude the transformation step."
   ]
  },
  {
   "cell_type": "code",
   "execution_count": 20,
   "id": "intellectual-norman",
   "metadata": {
    "execution": {
     "iopub.execute_input": "2021-09-25T11:24:25.296609Z",
     "iopub.status.busy": "2021-09-25T11:24:25.295974Z",
     "iopub.status.idle": "2021-09-25T11:24:25.298999Z",
     "shell.execute_reply": "2021-09-25T11:24:25.298561Z",
     "shell.execute_reply.started": "2021-09-25T09:58:29.359080Z"
    },
    "papermill": {
     "duration": 0.06141,
     "end_time": "2021-09-25T11:24:25.299131",
     "exception": false,
     "start_time": "2021-09-25T11:24:25.237721",
     "status": "completed"
    },
    "tags": []
   },
   "outputs": [],
   "source": [
    "def gen_search_eval(estimator_name: str, search_params,\n",
    "                    pred_task:str, search_mode: str):\n",
    "\n",
    "    cv = skf if pred_task == \"clf\" else kf\n",
    "    y_train_val = clf_y_train_val if pred_task == \"clf\" else reg_y_train_val\n",
    "    \n",
    "    pipeline_steps = Pipeline(\n",
    "        steps=[(\"transformer\", StandardScaler()),\n",
    "                (\"estimator\", globals()[estimator_name])]\n",
    "    )\n",
    "    \n",
    "    common_args = dict(estimator=pipeline_steps, n_jobs=-1, \n",
    "                       cv=cv, verbose=1,\n",
    "                       return_train_score=True,  # to check for overfitting\n",
    "                       error_score=\"raise\")  # if error during fitting\n",
    "    random_cv = RandomizedSearchCV(param_distributions=search_params, \n",
    "                                   n_iter=60, random_state=1, **common_args)\n",
    "    grid_cv = GridSearchCV(param_grid=search_params, **common_args)\n",
    "    search_cv = grid_cv if search_mode == \"grid\" else random_cv\n",
    "\n",
    "    search_cv.fit(X_train_val, y_train_val)\n",
    "    return search_cv\n",
    "\n",
    "\n",
    "def fmt_search_res(search_res):\n",
    "    summary_df = pd.DataFrame(\n",
    "        {key: search_res.cv_results_.get(key) \n",
    "         for key in [\"params\", \"rank_test_score\", \n",
    "                     \"mean_fit_time\", \"mean_score_time\",\n",
    "                     \"mean_train_score\", \"mean_test_score\",\n",
    "                     \"std_train_score\", \"std_test_score\"]}\n",
    "    )\n",
    "    \n",
    "    final_df = (pd.DataFrame(summary_df[\"params\"].tolist())  # expand params\n",
    "                .reset_index()\n",
    "                .merge(summary_df.reset_index(drop=True).reset_index())\n",
    "                .drop([\"index\", \"params\"], axis=1)\n",
    "                .sort_values([\"mean_test_score\", \"mean_fit_time\"], \n",
    "                             ascending=[False, True]))\n",
    "    return final_df\n",
    "\n",
    "\n",
    "# feature transformations important for distance-based algo eg. SVM, KNN\n",
    "transformers = [StandardScaler(),  # very sensitive to outliers\n",
    "                RobustScaler(),  # not affected by a few extreme outliers\n",
    "                FunctionTransformer(lambda x: x),  # do nothing\n",
    "                QuantileTransformer()]  # collapses outliers"
   ]
  },
  {
   "cell_type": "markdown",
   "id": "instant-exposure",
   "metadata": {
    "papermill": {
     "duration": 0.049175,
     "end_time": "2021-09-25T11:24:25.401533",
     "exception": false,
     "start_time": "2021-09-25T11:24:25.352358",
     "status": "completed"
    },
    "tags": []
   },
   "source": [
    "**Support Vector Machine**\n",
    "\n",
    "SVM generates hyperplanes that separate data points from each class for classification problems, or minimise distance of all points from the plane for regression problems. Some of the most important hyperparameters are probably the kernel that is used to transform the data, and a few parameters that adjust the regularisation."
   ]
  },
  {
   "cell_type": "code",
   "execution_count": 21,
   "id": "interpreted-customer",
   "metadata": {
    "_kg_hide-input": true,
    "execution": {
     "iopub.execute_input": "2021-09-25T11:24:25.507785Z",
     "iopub.status.busy": "2021-09-25T11:24:25.507190Z",
     "iopub.status.idle": "2021-09-25T11:31:06.792319Z",
     "shell.execute_reply": "2021-09-25T11:31:06.791485Z",
     "shell.execute_reply.started": "2021-09-25T06:56:50.805651Z"
    },
    "papermill": {
     "duration": 401.34177,
     "end_time": "2021-09-25T11:31:06.792718",
     "exception": false,
     "start_time": "2021-09-25T11:24:25.450948",
     "status": "completed"
    },
    "tags": []
   },
   "outputs": [
    {
     "name": "stdout",
     "output_type": "stream",
     "text": [
      "Fitting 5 folds for each of 60 candidates, totalling 300 fits\n",
      "\n",
      "Best classifier pipeline: Pipeline(steps=[('transformer', RobustScaler()),\n",
      "                ('estimator', SVC(C=100.0, gamma='auto'))])\n"
     ]
    },
    {
     "data": {
      "text/html": [
       "<div>\n",
       "<style scoped>\n",
       "    .dataframe tbody tr th:only-of-type {\n",
       "        vertical-align: middle;\n",
       "    }\n",
       "\n",
       "    .dataframe tbody tr th {\n",
       "        vertical-align: top;\n",
       "    }\n",
       "\n",
       "    .dataframe thead th {\n",
       "        text-align: right;\n",
       "    }\n",
       "</style>\n",
       "<table border=\"1\" class=\"dataframe\">\n",
       "  <thead>\n",
       "    <tr style=\"text-align: right;\">\n",
       "      <th></th>\n",
       "      <th>transformer</th>\n",
       "      <th>estimator__kernel</th>\n",
       "      <th>estimator__C</th>\n",
       "      <th>estimator__gamma</th>\n",
       "      <th>rank_test_score</th>\n",
       "      <th>mean_fit_time</th>\n",
       "      <th>mean_score_time</th>\n",
       "      <th>mean_train_score</th>\n",
       "      <th>mean_test_score</th>\n",
       "      <th>std_train_score</th>\n",
       "      <th>std_test_score</th>\n",
       "    </tr>\n",
       "  </thead>\n",
       "  <tbody>\n",
       "    <tr>\n",
       "      <th>9</th>\n",
       "      <td>RobustScaler()</td>\n",
       "      <td>rbf</td>\n",
       "      <td>100.0</td>\n",
       "      <td>auto</td>\n",
       "      <td>1</td>\n",
       "      <td>0.797773</td>\n",
       "      <td>0.110361</td>\n",
       "      <td>0.990500</td>\n",
       "      <td>0.973500</td>\n",
       "      <td>0.000729</td>\n",
       "      <td>0.003368</td>\n",
       "    </tr>\n",
       "    <tr>\n",
       "      <th>37</th>\n",
       "      <td>QuantileTransformer()</td>\n",
       "      <td>rbf</td>\n",
       "      <td>10.0</td>\n",
       "      <td>scale</td>\n",
       "      <td>2</td>\n",
       "      <td>0.631020</td>\n",
       "      <td>0.146469</td>\n",
       "      <td>0.994281</td>\n",
       "      <td>0.970375</td>\n",
       "      <td>0.000682</td>\n",
       "      <td>0.003414</td>\n",
       "    </tr>\n",
       "    <tr>\n",
       "      <th>36</th>\n",
       "      <td>StandardScaler()</td>\n",
       "      <td>rbf</td>\n",
       "      <td>10.0</td>\n",
       "      <td>auto</td>\n",
       "      <td>3</td>\n",
       "      <td>0.604554</td>\n",
       "      <td>0.146036</td>\n",
       "      <td>0.994594</td>\n",
       "      <td>0.970250</td>\n",
       "      <td>0.000645</td>\n",
       "      <td>0.003077</td>\n",
       "    </tr>\n",
       "  </tbody>\n",
       "</table>\n",
       "</div>"
      ],
      "text/plain": [
       "              transformer estimator__kernel  estimator__C estimator__gamma  \\\n",
       "9          RobustScaler()               rbf         100.0             auto   \n",
       "37  QuantileTransformer()               rbf          10.0            scale   \n",
       "36       StandardScaler()               rbf          10.0             auto   \n",
       "\n",
       "    rank_test_score  mean_fit_time  mean_score_time  mean_train_score  \\\n",
       "9                 1       0.797773         0.110361          0.990500   \n",
       "37                2       0.631020         0.146469          0.994281   \n",
       "36                3       0.604554         0.146036          0.994594   \n",
       "\n",
       "    mean_test_score  std_train_score  std_test_score  \n",
       "9          0.973500         0.000729        0.003368  \n",
       "37         0.970375         0.000682        0.003414  \n",
       "36         0.970250         0.000645        0.003077  "
      ]
     },
     "execution_count": 21,
     "metadata": {},
     "output_type": "execute_result"
    }
   ],
   "source": [
    "svm_params = [{\"estimator__kernel\": [\"rbf\", \"sigmoid\"],  # default rbf\n",
    "               # gamma reshapes decision boundary (high overfits)\n",
    "               \"estimator__gamma\": [\"auto\", \"scale\"]},  # default scale\n",
    "              {\"estimator__kernel\": [\"linear\"]}]  # gamma not affect linear\n",
    "\n",
    "for param_dict in [0, 1]:\n",
    "    svm_params[param_dict].update({\"transformer\": transformers,\n",
    "                                   \"estimator__C\": np.logspace(-2, 2, 5)})\n",
    "\n",
    "svc_raw_clf_res = gen_search_eval(\"svc\", svm_params, \"clf\", \"random\")\n",
    "print(f\"\\nBest classifier pipeline: {svc_raw_clf_res.best_estimator_}\")\n",
    "\n",
    "svc_clf_res = fmt_search_res(svc_raw_clf_res)\n",
    "svc_clf_res.head(3)"
   ]
  },
  {
   "cell_type": "code",
   "execution_count": 22,
   "id": "protecting-forty",
   "metadata": {
    "_kg_hide-input": true,
    "execution": {
     "iopub.execute_input": "2021-09-25T11:31:06.901372Z",
     "iopub.status.busy": "2021-09-25T11:31:06.900800Z",
     "iopub.status.idle": "2021-09-25T11:31:09.644290Z",
     "shell.execute_reply": "2021-09-25T11:31:09.643769Z",
     "shell.execute_reply.started": "2021-09-25T07:03:37.657727Z"
    },
    "papermill": {
     "duration": 2.800884,
     "end_time": "2021-09-25T11:31:09.644442",
     "exception": false,
     "start_time": "2021-09-25T11:31:06.843558",
     "status": "completed"
    },
    "tags": []
   },
   "outputs": [
    {
     "name": "stdout",
     "output_type": "stream",
     "text": [
      "Fitting 5 folds for each of 60 candidates, totalling 300 fits\n",
      "\n",
      "Best regressor pipeline: Pipeline(steps=[('transformer', StandardScaler()),\n",
      "                ('estimator', SVR(C=0.01, kernel='linear'))])\n"
     ]
    },
    {
     "data": {
      "text/html": [
       "<div>\n",
       "<style scoped>\n",
       "    .dataframe tbody tr th:only-of-type {\n",
       "        vertical-align: middle;\n",
       "    }\n",
       "\n",
       "    .dataframe tbody tr th {\n",
       "        vertical-align: top;\n",
       "    }\n",
       "\n",
       "    .dataframe thead th {\n",
       "        text-align: right;\n",
       "    }\n",
       "</style>\n",
       "<table border=\"1\" class=\"dataframe\">\n",
       "  <thead>\n",
       "    <tr style=\"text-align: right;\">\n",
       "      <th></th>\n",
       "      <th>transformer</th>\n",
       "      <th>estimator__kernel</th>\n",
       "      <th>estimator__C</th>\n",
       "      <th>estimator__gamma</th>\n",
       "      <th>rank_test_score</th>\n",
       "      <th>mean_fit_time</th>\n",
       "      <th>mean_score_time</th>\n",
       "      <th>mean_train_score</th>\n",
       "      <th>mean_test_score</th>\n",
       "      <th>std_train_score</th>\n",
       "      <th>std_test_score</th>\n",
       "    </tr>\n",
       "  </thead>\n",
       "  <tbody>\n",
       "    <tr>\n",
       "      <th>26</th>\n",
       "      <td>FunctionTransformer(func=&lt;function &lt;lambda&gt; at...</td>\n",
       "      <td>linear</td>\n",
       "      <td>10.00</td>\n",
       "      <td>NaN</td>\n",
       "      <td>1</td>\n",
       "      <td>0.006279</td>\n",
       "      <td>0.003036</td>\n",
       "      <td>-0.003062</td>\n",
       "      <td>-0.004554</td>\n",
       "      <td>0.003137</td>\n",
       "      <td>0.004893</td>\n",
       "    </tr>\n",
       "    <tr>\n",
       "      <th>40</th>\n",
       "      <td>FunctionTransformer(func=&lt;function &lt;lambda&gt; at...</td>\n",
       "      <td>linear</td>\n",
       "      <td>0.10</td>\n",
       "      <td>NaN</td>\n",
       "      <td>1</td>\n",
       "      <td>0.006316</td>\n",
       "      <td>0.003244</td>\n",
       "      <td>-0.003062</td>\n",
       "      <td>-0.004554</td>\n",
       "      <td>0.003137</td>\n",
       "      <td>0.004893</td>\n",
       "    </tr>\n",
       "    <tr>\n",
       "      <th>20</th>\n",
       "      <td>FunctionTransformer(func=&lt;function &lt;lambda&gt; at...</td>\n",
       "      <td>rbf</td>\n",
       "      <td>0.01</td>\n",
       "      <td>auto</td>\n",
       "      <td>1</td>\n",
       "      <td>0.006872</td>\n",
       "      <td>0.003418</td>\n",
       "      <td>-0.003062</td>\n",
       "      <td>-0.004554</td>\n",
       "      <td>0.003137</td>\n",
       "      <td>0.004893</td>\n",
       "    </tr>\n",
       "  </tbody>\n",
       "</table>\n",
       "</div>"
      ],
      "text/plain": [
       "                                          transformer estimator__kernel  \\\n",
       "26  FunctionTransformer(func=<function <lambda> at...            linear   \n",
       "40  FunctionTransformer(func=<function <lambda> at...            linear   \n",
       "20  FunctionTransformer(func=<function <lambda> at...               rbf   \n",
       "\n",
       "    estimator__C estimator__gamma  rank_test_score  mean_fit_time  \\\n",
       "26         10.00              NaN                1       0.006279   \n",
       "40          0.10              NaN                1       0.006316   \n",
       "20          0.01             auto                1       0.006872   \n",
       "\n",
       "    mean_score_time  mean_train_score  mean_test_score  std_train_score  \\\n",
       "26         0.003036         -0.003062        -0.004554         0.003137   \n",
       "40         0.003244         -0.003062        -0.004554         0.003137   \n",
       "20         0.003418         -0.003062        -0.004554         0.003137   \n",
       "\n",
       "    std_test_score  \n",
       "26        0.004893  \n",
       "40        0.004893  \n",
       "20        0.004893  "
      ]
     },
     "execution_count": 22,
     "metadata": {},
     "output_type": "execute_result"
    }
   ],
   "source": [
    "svr_raw_reg_res = gen_search_eval(\"svr\", svm_params, \"reg\", \"random\")\n",
    "print(f\"\\nBest regressor pipeline: {svr_raw_reg_res.best_estimator_}\")\n",
    "\n",
    "svr_reg_res = fmt_search_res(svr_raw_reg_res)\n",
    "svr_reg_res.head(3)"
   ]
  },
  {
   "cell_type": "markdown",
   "id": "distinguished-basin",
   "metadata": {
    "papermill": {
     "duration": 0.051847,
     "end_time": "2021-09-25T11:31:09.749203",
     "exception": false,
     "start_time": "2021-09-25T11:31:09.697356",
     "status": "completed"
    },
    "tags": []
   },
   "source": [
    "**Light Gradient Boosting Machine**\n",
    "\n",
    "Gradient boosting models iteratively build weak prediction models, minimising loss at each stage. Of the gradient boosting models available, I picked LightGBM, since it tends to be [much faster than XGBoost](https://github.com/Microsoft/LightGBM/blob/master/docs/Experiments.rst#comparison-experiment) as well as [CatBoost](https://publications.waset.org/10009954/comparison-between-xgboost-lightgbm-and-catboost-using-a-home-credit-datasethttps://publications.waset.org/10009954/comparison-between-xgboost-lightgbm-and-catboost-using-a-home-credit-dataset), while giving similar results. LightGBM has an [overwhelming number of adjustable parameters](https://lightgbm.readthedocs.io/en/latest/Parameters.html), some that adjust the ensemble model itself and others that put constraints on the individual trees."
   ]
  },
  {
   "cell_type": "code",
   "execution_count": 23,
   "id": "alpine-flexibility",
   "metadata": {
    "_kg_hide-input": true,
    "execution": {
     "iopub.execute_input": "2021-09-25T11:31:09.862386Z",
     "iopub.status.busy": "2021-09-25T11:31:09.861450Z",
     "iopub.status.idle": "2021-09-25T11:33:47.748970Z",
     "shell.execute_reply": "2021-09-25T11:33:47.748457Z",
     "shell.execute_reply.started": "2021-09-25T07:03:40.694706Z"
    },
    "papermill": {
     "duration": 157.948134,
     "end_time": "2021-09-25T11:33:47.749115",
     "exception": false,
     "start_time": "2021-09-25T11:31:09.800981",
     "status": "completed"
    },
    "tags": []
   },
   "outputs": [
    {
     "name": "stdout",
     "output_type": "stream",
     "text": [
      "Fitting 5 folds for each of 60 candidates, totalling 300 fits\n",
      "\n",
      "Best classifier pipeline: Pipeline(steps=[('transformer',\n",
      "                 FunctionTransformer(func=<function <lambda> at 0x7f4ed5c4ecb0>)),\n",
      "                ('estimator',\n",
      "                 LGBMClassifier(learning_rate=0.3, min_child_samples=30,\n",
      "                                n_estimators=500, random_state=1, reg_alpha=0.1,\n",
      "                                reg_lambda=10.0))])\n"
     ]
    },
    {
     "data": {
      "text/html": [
       "<div>\n",
       "<style scoped>\n",
       "    .dataframe tbody tr th:only-of-type {\n",
       "        vertical-align: middle;\n",
       "    }\n",
       "\n",
       "    .dataframe tbody tr th {\n",
       "        vertical-align: top;\n",
       "    }\n",
       "\n",
       "    .dataframe thead th {\n",
       "        text-align: right;\n",
       "    }\n",
       "</style>\n",
       "<table border=\"1\" class=\"dataframe\">\n",
       "  <thead>\n",
       "    <tr style=\"text-align: right;\">\n",
       "      <th></th>\n",
       "      <th>transformer</th>\n",
       "      <th>estimator__reg_lambda</th>\n",
       "      <th>estimator__reg_alpha</th>\n",
       "      <th>estimator__n_estimators</th>\n",
       "      <th>estimator__min_child_samples</th>\n",
       "      <th>estimator__max_depth</th>\n",
       "      <th>estimator__learning_rate</th>\n",
       "      <th>estimator__boosting_type</th>\n",
       "      <th>rank_test_score</th>\n",
       "      <th>mean_fit_time</th>\n",
       "      <th>mean_score_time</th>\n",
       "      <th>mean_train_score</th>\n",
       "      <th>mean_test_score</th>\n",
       "      <th>std_train_score</th>\n",
       "      <th>std_test_score</th>\n",
       "    </tr>\n",
       "  </thead>\n",
       "  <tbody>\n",
       "    <tr>\n",
       "      <th>53</th>\n",
       "      <td>FunctionTransformer(func=&lt;function &lt;lambda&gt; at...</td>\n",
       "      <td>10.0</td>\n",
       "      <td>0.1</td>\n",
       "      <td>500</td>\n",
       "      <td>30</td>\n",
       "      <td>-1</td>\n",
       "      <td>0.3</td>\n",
       "      <td>gbdt</td>\n",
       "      <td>1</td>\n",
       "      <td>1.745025</td>\n",
       "      <td>0.110691</td>\n",
       "      <td>1.0</td>\n",
       "      <td>0.95550</td>\n",
       "      <td>0.0</td>\n",
       "      <td>0.006317</td>\n",
       "    </tr>\n",
       "    <tr>\n",
       "      <th>34</th>\n",
       "      <td>StandardScaler()</td>\n",
       "      <td>10.0</td>\n",
       "      <td>0.1</td>\n",
       "      <td>250</td>\n",
       "      <td>20</td>\n",
       "      <td>25</td>\n",
       "      <td>0.2</td>\n",
       "      <td>gbdt</td>\n",
       "      <td>2</td>\n",
       "      <td>0.962449</td>\n",
       "      <td>0.042624</td>\n",
       "      <td>1.0</td>\n",
       "      <td>0.95375</td>\n",
       "      <td>0.0</td>\n",
       "      <td>0.007082</td>\n",
       "    </tr>\n",
       "    <tr>\n",
       "      <th>38</th>\n",
       "      <td>StandardScaler()</td>\n",
       "      <td>10.0</td>\n",
       "      <td>1.0</td>\n",
       "      <td>500</td>\n",
       "      <td>40</td>\n",
       "      <td>50</td>\n",
       "      <td>0.1</td>\n",
       "      <td>gbdt</td>\n",
       "      <td>2</td>\n",
       "      <td>1.773483</td>\n",
       "      <td>0.112237</td>\n",
       "      <td>1.0</td>\n",
       "      <td>0.95375</td>\n",
       "      <td>0.0</td>\n",
       "      <td>0.007192</td>\n",
       "    </tr>\n",
       "  </tbody>\n",
       "</table>\n",
       "</div>"
      ],
      "text/plain": [
       "                                          transformer  estimator__reg_lambda  \\\n",
       "53  FunctionTransformer(func=<function <lambda> at...                   10.0   \n",
       "34                                   StandardScaler()                   10.0   \n",
       "38                                   StandardScaler()                   10.0   \n",
       "\n",
       "    estimator__reg_alpha  estimator__n_estimators  \\\n",
       "53                   0.1                      500   \n",
       "34                   0.1                      250   \n",
       "38                   1.0                      500   \n",
       "\n",
       "    estimator__min_child_samples  estimator__max_depth  \\\n",
       "53                            30                    -1   \n",
       "34                            20                    25   \n",
       "38                            40                    50   \n",
       "\n",
       "    estimator__learning_rate estimator__boosting_type  rank_test_score  \\\n",
       "53                       0.3                     gbdt                1   \n",
       "34                       0.2                     gbdt                2   \n",
       "38                       0.1                     gbdt                2   \n",
       "\n",
       "    mean_fit_time  mean_score_time  mean_train_score  mean_test_score  \\\n",
       "53       1.745025         0.110691               1.0          0.95550   \n",
       "34       0.962449         0.042624               1.0          0.95375   \n",
       "38       1.773483         0.112237               1.0          0.95375   \n",
       "\n",
       "    std_train_score  std_test_score  \n",
       "53              0.0        0.006317  \n",
       "34              0.0        0.007082  \n",
       "38              0.0        0.007192  "
      ]
     },
     "execution_count": 23,
     "metadata": {},
     "output_type": "execute_result"
    }
   ],
   "source": [
    "lgb_params = {\n",
    "    \"transformer\": transformers,\n",
    "    # generally, slower learning rates need more trees\n",
    "    \"estimator__n_estimators\": [50, 100, 250, 500],  # default 100\n",
    "    \"estimator__learning_rate\": [0.001, 0.01, 0.1, 0.2, 0.3],  # default 0.1\n",
    "    \"estimator__boosting_type\": [\"gbdt\", \"dart\"],  # default gbdt\n",
    "    # restrict tree growth and adjust regularisation to prevent overfitting\n",
    "    \"estimator__max_depth\": [25, 50, -1],  # default -1 (no limit)\n",
    "    \"estimator__min_child_samples\": [20, 30, 40],  # default 20\n",
    "    \"estimator__reg_alpha\": np.logspace(-2, 2, 5),  # lambda_l1; default 0\n",
    "    \"estimator__reg_lambda\": np.logspace(-2, 2, 5)  # lambda_l2; default 0\n",
    "}\n",
    "\n",
    "lgbc_raw_clf_res = gen_search_eval(\"lgbc\", lgb_params, \"clf\", \"random\")\n",
    "print(f\"\\nBest classifier pipeline: {lgbc_raw_clf_res.best_estimator_}\")\n",
    "\n",
    "lgbc_clf_res = fmt_search_res(lgbc_raw_clf_res)\n",
    "lgbc_clf_res.head(3)"
   ]
  },
  {
   "cell_type": "code",
   "execution_count": 24,
   "id": "extraordinary-revision",
   "metadata": {
    "_kg_hide-input": true,
    "execution": {
     "iopub.execute_input": "2021-09-25T11:33:47.860414Z",
     "iopub.status.busy": "2021-09-25T11:33:47.859821Z",
     "iopub.status.idle": "2021-09-25T11:35:33.877116Z",
     "shell.execute_reply": "2021-09-25T11:35:33.876534Z",
     "shell.execute_reply.started": "2021-09-25T07:06:22.507348Z"
    },
    "papermill": {
     "duration": 106.075782,
     "end_time": "2021-09-25T11:35:33.877324",
     "exception": false,
     "start_time": "2021-09-25T11:33:47.801542",
     "status": "completed"
    },
    "tags": []
   },
   "outputs": [
    {
     "name": "stdout",
     "output_type": "stream",
     "text": [
      "Fitting 5 folds for each of 60 candidates, totalling 300 fits\n",
      "\n",
      "Best regressor pipeline: Pipeline(steps=[('transformer', QuantileTransformer()),\n",
      "                ('estimator',\n",
      "                 LGBMRegressor(boosting_type='dart', learning_rate=0.3,\n",
      "                               max_depth=25, min_child_samples=30,\n",
      "                               n_estimators=250, random_state=1, reg_alpha=0.01,\n",
      "                               reg_lambda=0.01))])\n"
     ]
    },
    {
     "data": {
      "text/html": [
       "<div>\n",
       "<style scoped>\n",
       "    .dataframe tbody tr th:only-of-type {\n",
       "        vertical-align: middle;\n",
       "    }\n",
       "\n",
       "    .dataframe tbody tr th {\n",
       "        vertical-align: top;\n",
       "    }\n",
       "\n",
       "    .dataframe thead th {\n",
       "        text-align: right;\n",
       "    }\n",
       "</style>\n",
       "<table border=\"1\" class=\"dataframe\">\n",
       "  <thead>\n",
       "    <tr style=\"text-align: right;\">\n",
       "      <th></th>\n",
       "      <th>transformer</th>\n",
       "      <th>estimator__reg_lambda</th>\n",
       "      <th>estimator__reg_alpha</th>\n",
       "      <th>estimator__n_estimators</th>\n",
       "      <th>estimator__min_child_samples</th>\n",
       "      <th>estimator__max_depth</th>\n",
       "      <th>estimator__learning_rate</th>\n",
       "      <th>estimator__boosting_type</th>\n",
       "      <th>rank_test_score</th>\n",
       "      <th>mean_fit_time</th>\n",
       "      <th>mean_score_time</th>\n",
       "      <th>mean_train_score</th>\n",
       "      <th>mean_test_score</th>\n",
       "      <th>std_train_score</th>\n",
       "      <th>std_test_score</th>\n",
       "    </tr>\n",
       "  </thead>\n",
       "  <tbody>\n",
       "    <tr>\n",
       "      <th>0</th>\n",
       "      <td>QuantileTransformer()</td>\n",
       "      <td>0.01</td>\n",
       "      <td>0.01</td>\n",
       "      <td>250</td>\n",
       "      <td>30</td>\n",
       "      <td>25</td>\n",
       "      <td>0.3</td>\n",
       "      <td>dart</td>\n",
       "      <td>1</td>\n",
       "      <td>3.242590</td>\n",
       "      <td>0.045967</td>\n",
       "      <td>0.989932</td>\n",
       "      <td>0.960280</td>\n",
       "      <td>0.000113</td>\n",
       "      <td>0.002185</td>\n",
       "    </tr>\n",
       "    <tr>\n",
       "      <th>4</th>\n",
       "      <td>RobustScaler()</td>\n",
       "      <td>10.00</td>\n",
       "      <td>0.01</td>\n",
       "      <td>250</td>\n",
       "      <td>30</td>\n",
       "      <td>25</td>\n",
       "      <td>0.1</td>\n",
       "      <td>gbdt</td>\n",
       "      <td>2</td>\n",
       "      <td>0.869199</td>\n",
       "      <td>0.044272</td>\n",
       "      <td>0.988652</td>\n",
       "      <td>0.956985</td>\n",
       "      <td>0.000244</td>\n",
       "      <td>0.002324</td>\n",
       "    </tr>\n",
       "    <tr>\n",
       "      <th>50</th>\n",
       "      <td>StandardScaler()</td>\n",
       "      <td>10.00</td>\n",
       "      <td>0.10</td>\n",
       "      <td>250</td>\n",
       "      <td>20</td>\n",
       "      <td>-1</td>\n",
       "      <td>0.1</td>\n",
       "      <td>gbdt</td>\n",
       "      <td>3</td>\n",
       "      <td>0.879209</td>\n",
       "      <td>0.046616</td>\n",
       "      <td>0.983781</td>\n",
       "      <td>0.955541</td>\n",
       "      <td>0.000268</td>\n",
       "      <td>0.003311</td>\n",
       "    </tr>\n",
       "  </tbody>\n",
       "</table>\n",
       "</div>"
      ],
      "text/plain": [
       "              transformer  estimator__reg_lambda  estimator__reg_alpha  \\\n",
       "0   QuantileTransformer()                   0.01                  0.01   \n",
       "4          RobustScaler()                  10.00                  0.01   \n",
       "50       StandardScaler()                  10.00                  0.10   \n",
       "\n",
       "    estimator__n_estimators  estimator__min_child_samples  \\\n",
       "0                       250                            30   \n",
       "4                       250                            30   \n",
       "50                      250                            20   \n",
       "\n",
       "    estimator__max_depth  estimator__learning_rate estimator__boosting_type  \\\n",
       "0                     25                       0.3                     dart   \n",
       "4                     25                       0.1                     gbdt   \n",
       "50                    -1                       0.1                     gbdt   \n",
       "\n",
       "    rank_test_score  mean_fit_time  mean_score_time  mean_train_score  \\\n",
       "0                 1       3.242590         0.045967          0.989932   \n",
       "4                 2       0.869199         0.044272          0.988652   \n",
       "50                3       0.879209         0.046616          0.983781   \n",
       "\n",
       "    mean_test_score  std_train_score  std_test_score  \n",
       "0          0.960280         0.000113        0.002185  \n",
       "4          0.956985         0.000244        0.002324  \n",
       "50         0.955541         0.000268        0.003311  "
      ]
     },
     "execution_count": 24,
     "metadata": {},
     "output_type": "execute_result"
    }
   ],
   "source": [
    "lgbr_raw_reg_res = gen_search_eval(\"lgbr\", lgb_params, \"reg\", \"random\")\n",
    "print(f\"\\nBest regressor pipeline: {lgbr_raw_reg_res.best_estimator_}\")\n",
    "\n",
    "lgbr_reg_res = fmt_search_res(lgbr_raw_reg_res)\n",
    "lgbr_reg_res.head(3)"
   ]
  },
  {
   "cell_type": "code",
   "execution_count": 25,
   "id": "indie-envelope",
   "metadata": {
    "_kg_hide-input": true,
    "execution": {
     "iopub.execute_input": "2021-09-25T11:35:33.993850Z",
     "iopub.status.busy": "2021-09-25T11:35:33.992900Z",
     "iopub.status.idle": "2021-09-25T11:35:36.530406Z",
     "shell.execute_reply": "2021-09-25T11:35:36.530818Z",
     "shell.execute_reply.started": "2021-09-25T07:08:11.036521Z"
    },
    "papermill": {
     "duration": 2.599527,
     "end_time": "2021-09-25T11:35:36.531003",
     "exception": false,
     "start_time": "2021-09-25T11:35:33.931476",
     "status": "completed"
    },
    "tags": []
   },
   "outputs": [
    {
     "data": {
      "image/png": "[encoded data removed]",
      "text/plain": [
       "<Figure size 720x216 with 2 Axes>"
      ]
     },
     "metadata": {
      "needs_background": "light"
     },
     "output_type": "display_data"
    }
   ],
   "source": [
    "# take just estimator parts since plot_metric doesn't work with pipelines\n",
    "tuned_lgbc = lgbc_raw_clf_res.best_estimator_[1]\n",
    "tuned_lgbr = lgbr_raw_reg_res.best_estimator_[1]\n",
    "qt = QuantileTransformer()\n",
    "\n",
    "tuned_lgbc.fit(X_train, clf_y_train, \n",
    "           eval_set=[(X_train, clf_y_train), \n",
    "                     (X_val, clf_y_val)], \n",
    "           eval_names=[\"train set\", \"validation set\"],\n",
    "           verbose=0)\n",
    "tuned_lgbr.fit(qt.fit_transform(X_train), reg_y_train, \n",
    "           eval_set=[(qt.fit_transform(X_train), reg_y_train), \n",
    "                     (qt.transform(X_val), reg_y_val)], \n",
    "           eval_names=[\"train set\", \"validation set\"],\n",
    "           verbose=0)\n",
    "\n",
    "fig, axs = plt.subplots(1, 2, figsize=(10, 3))\n",
    "plt.subplots_adjust(wspace=0.4)\n",
    "plot_metric(tuned_lgbc, title=\"Tuned LightGBM Classifier\",\n",
    "            xlabel=\"n_estimators\", grid=False, ax=axs[0])\n",
    "plot_metric(tuned_lgbr, title=\"Tuned LightGBM Regressor\",\n",
    "            xlabel=\"n_estimators\", ylabel=\"MSE\", grid=False, ax=axs[1]);"
   ]
  },
  {
   "cell_type": "markdown",
   "id": "driven-possibility",
   "metadata": {
    "papermill": {
     "duration": 0.054623,
     "end_time": "2021-09-25T11:35:36.640334",
     "exception": false,
     "start_time": "2021-09-25T11:35:36.585711",
     "status": "completed"
    },
    "tags": []
   },
   "source": [
    "With the tuned parameters, both training and validation loss decrease to a plateau for the best tuned classifier and regressor. The classifier fit improved from the baseline model; the regressor fit seems similar, but importantly, not overfitted."
   ]
  },
  {
   "cell_type": "markdown",
   "id": "million-lawrence",
   "metadata": {
    "papermill": {
     "duration": 0.054898,
     "end_time": "2021-09-25T11:35:36.833089",
     "exception": false,
     "start_time": "2021-09-25T11:35:36.778191",
     "status": "completed"
    },
    "tags": []
   },
   "source": [
    "**Random Forest**\n",
    "\n",
    "Random forest models build decision trees from random subsets of samples and features, and also have many hyperparameters to tune. Of course the impact of each parameter may vary depending on the data set. For example, with only eight features in our data set, setting `max_features` to \"auto\", \"sqrt\" or \"log2\" should have no significant impact on performance - in all cases, three features should be considered at each split (though `max_features` could still be set to a specific number instead)."
   ]
  },
  {
   "cell_type": "code",
   "execution_count": 26,
   "id": "stuck-milan",
   "metadata": {
    "_kg_hide-input": true,
    "execution": {
     "iopub.execute_input": "2021-09-25T11:35:36.950262Z",
     "iopub.status.busy": "2021-09-25T11:35:36.949654Z",
     "iopub.status.idle": "2021-09-25T11:40:52.142229Z",
     "shell.execute_reply": "2021-09-25T11:40:52.141749Z",
     "shell.execute_reply.started": "2021-09-25T09:58:37.533571Z"
    },
    "papermill": {
     "duration": 315.253801,
     "end_time": "2021-09-25T11:40:52.142369",
     "exception": false,
     "start_time": "2021-09-25T11:35:36.888568",
     "status": "completed"
    },
    "tags": []
   },
   "outputs": [
    {
     "name": "stdout",
     "output_type": "stream",
     "text": [
      "Fitting 5 folds for each of 60 candidates, totalling 300 fits\n",
      "\n",
      "Best classifier pipeline: Pipeline(steps=[('transformer', RobustScaler()),\n",
      "                ('estimator',\n",
      "                 RandomForestClassifier(max_depth=50, min_samples_split=5,\n",
      "                                        n_estimators=500, random_state=1))])\n"
     ]
    },
    {
     "data": {
      "text/html": [
       "<div>\n",
       "<style scoped>\n",
       "    .dataframe tbody tr th:only-of-type {\n",
       "        vertical-align: middle;\n",
       "    }\n",
       "\n",
       "    .dataframe tbody tr th {\n",
       "        vertical-align: top;\n",
       "    }\n",
       "\n",
       "    .dataframe thead th {\n",
       "        text-align: right;\n",
       "    }\n",
       "</style>\n",
       "<table border=\"1\" class=\"dataframe\">\n",
       "  <thead>\n",
       "    <tr style=\"text-align: right;\">\n",
       "      <th></th>\n",
       "      <th>transformer</th>\n",
       "      <th>estimator__n_estimators</th>\n",
       "      <th>estimator__min_samples_split</th>\n",
       "      <th>estimator__min_samples_leaf</th>\n",
       "      <th>estimator__max_depth</th>\n",
       "      <th>rank_test_score</th>\n",
       "      <th>mean_fit_time</th>\n",
       "      <th>mean_score_time</th>\n",
       "      <th>mean_train_score</th>\n",
       "      <th>mean_test_score</th>\n",
       "      <th>std_train_score</th>\n",
       "      <th>std_test_score</th>\n",
       "    </tr>\n",
       "  </thead>\n",
       "  <tbody>\n",
       "    <tr>\n",
       "      <th>28</th>\n",
       "      <td>RobustScaler()</td>\n",
       "      <td>500</td>\n",
       "      <td>5</td>\n",
       "      <td>1</td>\n",
       "      <td>50.0</td>\n",
       "      <td>1</td>\n",
       "      <td>8.259277</td>\n",
       "      <td>0.239167</td>\n",
       "      <td>1.0</td>\n",
       "      <td>0.924125</td>\n",
       "      <td>0.0</td>\n",
       "      <td>0.004412</td>\n",
       "    </tr>\n",
       "    <tr>\n",
       "      <th>43</th>\n",
       "      <td>QuantileTransformer()</td>\n",
       "      <td>500</td>\n",
       "      <td>2</td>\n",
       "      <td>1</td>\n",
       "      <td>50.0</td>\n",
       "      <td>2</td>\n",
       "      <td>8.343555</td>\n",
       "      <td>0.260318</td>\n",
       "      <td>1.0</td>\n",
       "      <td>0.923875</td>\n",
       "      <td>0.0</td>\n",
       "      <td>0.006090</td>\n",
       "    </tr>\n",
       "    <tr>\n",
       "      <th>37</th>\n",
       "      <td>RobustScaler()</td>\n",
       "      <td>500</td>\n",
       "      <td>5</td>\n",
       "      <td>1</td>\n",
       "      <td>15.0</td>\n",
       "      <td>3</td>\n",
       "      <td>8.404518</td>\n",
       "      <td>0.260805</td>\n",
       "      <td>1.0</td>\n",
       "      <td>0.923250</td>\n",
       "      <td>0.0</td>\n",
       "      <td>0.004991</td>\n",
       "    </tr>\n",
       "  </tbody>\n",
       "</table>\n",
       "</div>"
      ],
      "text/plain": [
       "              transformer  estimator__n_estimators  \\\n",
       "28         RobustScaler()                      500   \n",
       "43  QuantileTransformer()                      500   \n",
       "37         RobustScaler()                      500   \n",
       "\n",
       "    estimator__min_samples_split  estimator__min_samples_leaf  \\\n",
       "28                             5                            1   \n",
       "43                             2                            1   \n",
       "37                             5                            1   \n",
       "\n",
       "    estimator__max_depth  rank_test_score  mean_fit_time  mean_score_time  \\\n",
       "28                  50.0                1       8.259277         0.239167   \n",
       "43                  50.0                2       8.343555         0.260318   \n",
       "37                  15.0                3       8.404518         0.260805   \n",
       "\n",
       "    mean_train_score  mean_test_score  std_train_score  std_test_score  \n",
       "28               1.0         0.924125              0.0        0.004412  \n",
       "43               1.0         0.923875              0.0        0.006090  \n",
       "37               1.0         0.923250              0.0        0.004991  "
      ]
     },
     "execution_count": 26,
     "metadata": {},
     "output_type": "execute_result"
    }
   ],
   "source": [
    "rf_params = {\n",
    "    \"transformer\": transformers,\n",
    "    \"estimator__n_estimators\": [50, 100, 250, 500],  # default 100\n",
    "    \"estimator__max_depth\": [15, 50, None],\n",
    "    \"estimator__min_samples_split\": [2, 5, 10],  # default 2\n",
    "    \"estimator__min_samples_leaf\": [1, 2, 5]  # default 1\n",
    "}\n",
    "\n",
    "rfc_raw_clf_res = gen_search_eval(\"rfc\", rf_params, \"clf\", \"random\")\n",
    "print(f\"\\nBest classifier pipeline: {rfc_raw_clf_res.best_estimator_}\")\n",
    "\n",
    "rfc_clf_res = fmt_search_res(rfc_raw_clf_res)\n",
    "rfc_clf_res.head(3)"
   ]
  },
  {
   "cell_type": "code",
   "execution_count": 27,
   "id": "retained-brief",
   "metadata": {
    "_kg_hide-input": true,
    "execution": {
     "iopub.execute_input": "2021-09-25T11:40:52.261234Z",
     "iopub.status.busy": "2021-09-25T11:40:52.260263Z",
     "iopub.status.idle": "2021-09-25T11:55:50.803611Z",
     "shell.execute_reply": "2021-09-25T11:55:50.803100Z",
     "shell.execute_reply.started": "2021-09-25T10:04:20.601540Z"
    },
    "papermill": {
     "duration": 898.605723,
     "end_time": "2021-09-25T11:55:50.803762",
     "exception": false,
     "start_time": "2021-09-25T11:40:52.198039",
     "status": "completed"
    },
    "tags": []
   },
   "outputs": [
    {
     "name": "stdout",
     "output_type": "stream",
     "text": [
      "Fitting 5 folds for each of 60 candidates, totalling 300 fits\n",
      "\n",
      "Best regressor pipeline: Pipeline(steps=[('transformer', QuantileTransformer()),\n",
      "                ('estimator',\n",
      "                 RandomForestRegressor(max_depth=50, n_estimators=500,\n",
      "                                       random_state=1))])\n"
     ]
    },
    {
     "data": {
      "text/html": [
       "<div>\n",
       "<style scoped>\n",
       "    .dataframe tbody tr th:only-of-type {\n",
       "        vertical-align: middle;\n",
       "    }\n",
       "\n",
       "    .dataframe tbody tr th {\n",
       "        vertical-align: top;\n",
       "    }\n",
       "\n",
       "    .dataframe thead th {\n",
       "        text-align: right;\n",
       "    }\n",
       "</style>\n",
       "<table border=\"1\" class=\"dataframe\">\n",
       "  <thead>\n",
       "    <tr style=\"text-align: right;\">\n",
       "      <th></th>\n",
       "      <th>transformer</th>\n",
       "      <th>estimator__n_estimators</th>\n",
       "      <th>estimator__min_samples_split</th>\n",
       "      <th>estimator__min_samples_leaf</th>\n",
       "      <th>estimator__max_depth</th>\n",
       "      <th>rank_test_score</th>\n",
       "      <th>mean_fit_time</th>\n",
       "      <th>mean_score_time</th>\n",
       "      <th>mean_train_score</th>\n",
       "      <th>mean_test_score</th>\n",
       "      <th>std_train_score</th>\n",
       "      <th>std_test_score</th>\n",
       "    </tr>\n",
       "  </thead>\n",
       "  <tbody>\n",
       "    <tr>\n",
       "      <th>43</th>\n",
       "      <td>QuantileTransformer()</td>\n",
       "      <td>500</td>\n",
       "      <td>2</td>\n",
       "      <td>1</td>\n",
       "      <td>50.0</td>\n",
       "      <td>1</td>\n",
       "      <td>29.277818</td>\n",
       "      <td>0.329768</td>\n",
       "      <td>0.986727</td>\n",
       "      <td>0.901952</td>\n",
       "      <td>0.000128</td>\n",
       "      <td>0.003712</td>\n",
       "    </tr>\n",
       "    <tr>\n",
       "      <th>27</th>\n",
       "      <td>StandardScaler()</td>\n",
       "      <td>500</td>\n",
       "      <td>2</td>\n",
       "      <td>2</td>\n",
       "      <td>50.0</td>\n",
       "      <td>2</td>\n",
       "      <td>25.488514</td>\n",
       "      <td>0.246194</td>\n",
       "      <td>0.981449</td>\n",
       "      <td>0.901852</td>\n",
       "      <td>0.000190</td>\n",
       "      <td>0.003984</td>\n",
       "    </tr>\n",
       "    <tr>\n",
       "      <th>56</th>\n",
       "      <td>FunctionTransformer(func=&lt;function &lt;lambda&gt; at...</td>\n",
       "      <td>500</td>\n",
       "      <td>2</td>\n",
       "      <td>2</td>\n",
       "      <td>15.0</td>\n",
       "      <td>3</td>\n",
       "      <td>24.800492</td>\n",
       "      <td>0.228808</td>\n",
       "      <td>0.981101</td>\n",
       "      <td>0.901618</td>\n",
       "      <td>0.000209</td>\n",
       "      <td>0.003985</td>\n",
       "    </tr>\n",
       "  </tbody>\n",
       "</table>\n",
       "</div>"
      ],
      "text/plain": [
       "                                          transformer  \\\n",
       "43                              QuantileTransformer()   \n",
       "27                                   StandardScaler()   \n",
       "56  FunctionTransformer(func=<function <lambda> at...   \n",
       "\n",
       "    estimator__n_estimators  estimator__min_samples_split  \\\n",
       "43                      500                             2   \n",
       "27                      500                             2   \n",
       "56                      500                             2   \n",
       "\n",
       "    estimator__min_samples_leaf  estimator__max_depth  rank_test_score  \\\n",
       "43                            1                  50.0                1   \n",
       "27                            2                  50.0                2   \n",
       "56                            2                  15.0                3   \n",
       "\n",
       "    mean_fit_time  mean_score_time  mean_train_score  mean_test_score  \\\n",
       "43      29.277818         0.329768          0.986727         0.901952   \n",
       "27      25.488514         0.246194          0.981449         0.901852   \n",
       "56      24.800492         0.228808          0.981101         0.901618   \n",
       "\n",
       "    std_train_score  std_test_score  \n",
       "43         0.000128        0.003712  \n",
       "27         0.000190        0.003984  \n",
       "56         0.000209        0.003985  "
      ]
     },
     "execution_count": 27,
     "metadata": {},
     "output_type": "execute_result"
    }
   ],
   "source": [
    "rfr_raw_reg_res = gen_search_eval(\"rfr\", rf_params, \"reg\", \"random\")\n",
    "print(f\"\\nBest regressor pipeline: {rfr_raw_reg_res.best_estimator_}\")\n",
    "\n",
    "rfr_reg_res = fmt_search_res(rfr_raw_reg_res)\n",
    "rfr_reg_res.head(3)"
   ]
  },
  {
   "cell_type": "code",
   "execution_count": 28,
   "id": "devoted-import",
   "metadata": {
    "_kg_hide-input": true,
    "execution": {
     "iopub.execute_input": "2021-09-25T11:55:50.928442Z",
     "iopub.status.busy": "2021-09-25T11:55:50.927858Z",
     "iopub.status.idle": "2021-09-25T11:56:37.725905Z",
     "shell.execute_reply": "2021-09-25T11:56:37.726370Z",
     "shell.execute_reply.started": "2021-09-25T10:19:50.017671Z"
    },
    "papermill": {
     "duration": 46.866018,
     "end_time": "2021-09-25T11:56:37.726550",
     "exception": false,
     "start_time": "2021-09-25T11:55:50.860532",
     "status": "completed"
    },
    "tags": []
   },
   "outputs": [
    {
     "data": {
      "text/html": [
       "<style  type=\"text/css\" >\n",
       "</style><table id=\"T_66537_\" ><caption>Tuned RF performance</caption><thead>    <tr>        <th class=\"blank level0\" ></th>        <th class=\"col_heading level0 col0\" >classifier</th>        <th class=\"col_heading level0 col1\" >regressor</th>    </tr></thead><tbody>\n",
       "                <tr>\n",
       "                        <th id=\"T_66537_level0_row0\" class=\"row_heading level0 row0\" >training set score</th>\n",
       "                        <td id=\"T_66537_row0_col0\" class=\"data row0 col0\" >1.000</td>\n",
       "                        <td id=\"T_66537_row0_col1\" class=\"data row0 col1\" >0.986</td>\n",
       "            </tr>\n",
       "            <tr>\n",
       "                        <th id=\"T_66537_level0_row1\" class=\"row_heading level0 row1\" >training set OOB score</th>\n",
       "                        <td id=\"T_66537_row1_col0\" class=\"data row1 col0\" >0.921</td>\n",
       "                        <td id=\"T_66537_row1_col1\" class=\"data row1 col1\" >0.900</td>\n",
       "            </tr>\n",
       "            <tr>\n",
       "                        <th id=\"T_66537_level0_row2\" class=\"row_heading level0 row2\" >validation set score</th>\n",
       "                        <td id=\"T_66537_row2_col0\" class=\"data row2 col0\" >0.931</td>\n",
       "                        <td id=\"T_66537_row2_col1\" class=\"data row2 col1\" >0.899</td>\n",
       "            </tr>\n",
       "    </tbody></table>"
      ],
      "text/plain": [
       "<pandas.io.formats.style.Styler at 0x7f4ec7397350>"
      ]
     },
     "execution_count": 28,
     "metadata": {},
     "output_type": "execute_result"
    }
   ],
   "source": [
    "tuned_rfc = rfc_raw_clf_res.best_estimator_[1]\n",
    "tuned_rfc_oob = rfc_raw_clf_res.best_estimator_[1]\n",
    "tuned_rfc_oob.set_params(oob_score=True)\n",
    "tuned_rfr = rfr_raw_reg_res.best_estimator_[1]\n",
    "tuned_rfr_oob = rfr_raw_reg_res.best_estimator_[1]\n",
    "tuned_rfr_oob.set_params(oob_score=True)\n",
    "\n",
    "rs = RobustScaler()\n",
    "tuned_rfc.fit(rs.fit_transform(X_train), clf_y_train)\n",
    "tuned_rfc_oob.fit(rs.fit_transform(X_train), clf_y_train)\n",
    "qt = QuantileTransformer()\n",
    "tuned_rfr.fit(qt.fit_transform(X_train), reg_y_train)\n",
    "tuned_rfr_oob.fit(qt.fit_transform(X_train), reg_y_train)\n",
    "\n",
    "pd.DataFrame({\n",
    "    \"classifier\": [tuned_rfc.score(rs.transform(X_train), clf_y_train),\n",
    "                   tuned_rfc_oob.oob_score_,\n",
    "                   tuned_rfc.score(rs.transform(X_val), clf_y_val)],\n",
    "    \"regressor\": [tuned_rfr.score(qt.transform(X_train), reg_y_train),\n",
    "                  tuned_rfr_oob.oob_score_,\n",
    "                  tuned_rfr.score(qt.transform(X_val), reg_y_val)],\n",
    "}, index=[\"training set score\", \"training set OOB score\",\n",
    "          \"validation set score\"]\n",
    ").style.format(\"{:.3f}\").set_caption(\"Tuned RF performance\")"
   ]
  },
  {
   "cell_type": "markdown",
   "id": "individual-mainland",
   "metadata": {
    "papermill": {
     "duration": 0.057223,
     "end_time": "2021-09-25T11:56:37.840936",
     "exception": false,
     "start_time": "2021-09-25T11:56:37.783713",
     "status": "completed"
    },
    "tags": []
   },
   "source": [
    "Neither tuned RF classifier nor regressor seem overfitted."
   ]
  },
  {
   "cell_type": "markdown",
   "id": "stuffed-broadcasting",
   "metadata": {
    "papermill": {
     "duration": 0.058232,
     "end_time": "2021-09-25T11:56:37.956278",
     "exception": false,
     "start_time": "2021-09-25T11:56:37.898046",
     "status": "completed"
    },
    "tags": []
   },
   "source": [
    "**KNN**\n",
    "\n",
    "k-nearest neighbours makes predictions based on values of the nearest neighbours. For classification, this is summarised by a simple majority vote, whereas averaging is used for regression. This of course means hyperparameters related to the number of neighbours, how distances are calculated and how much weight is put on each neighbour's value affect the performance."
   ]
  },
  {
   "cell_type": "code",
   "execution_count": 29,
   "id": "cheap-juice",
   "metadata": {
    "_kg_hide-input": true,
    "execution": {
     "iopub.execute_input": "2021-09-25T11:56:38.075419Z",
     "iopub.status.busy": "2021-09-25T11:56:38.074778Z",
     "iopub.status.idle": "2021-09-25T11:58:08.110566Z",
     "shell.execute_reply": "2021-09-25T11:58:08.109857Z",
     "shell.execute_reply.started": "2021-09-25T07:29:46.207376Z"
    },
    "papermill": {
     "duration": 90.096812,
     "end_time": "2021-09-25T11:58:08.110797",
     "exception": false,
     "start_time": "2021-09-25T11:56:38.013985",
     "status": "completed"
    },
    "tags": []
   },
   "outputs": [
    {
     "name": "stdout",
     "output_type": "stream",
     "text": [
      "Typical `k` to start with (square root of number of samples):  89.44271909999159\n",
      "Fitting 5 folds for each of 60 candidates, totalling 300 fits\n",
      "\n",
      "Best classifier pipeline: Pipeline(steps=[('transformer', QuantileTransformer()),\n",
      "                ('estimator',\n",
      "                 KNeighborsClassifier(algorithm='ball_tree', metric='manhattan',\n",
      "                                      n_neighbors=15, weights='distance'))])\n"
     ]
    },
    {
     "data": {
      "text/html": [
       "<div>\n",
       "<style scoped>\n",
       "    .dataframe tbody tr th:only-of-type {\n",
       "        vertical-align: middle;\n",
       "    }\n",
       "\n",
       "    .dataframe tbody tr th {\n",
       "        vertical-align: top;\n",
       "    }\n",
       "\n",
       "    .dataframe thead th {\n",
       "        text-align: right;\n",
       "    }\n",
       "</style>\n",
       "<table border=\"1\" class=\"dataframe\">\n",
       "  <thead>\n",
       "    <tr style=\"text-align: right;\">\n",
       "      <th></th>\n",
       "      <th>transformer</th>\n",
       "      <th>estimator__weights</th>\n",
       "      <th>estimator__n_neighbors</th>\n",
       "      <th>estimator__metric</th>\n",
       "      <th>estimator__algorithm</th>\n",
       "      <th>rank_test_score</th>\n",
       "      <th>mean_fit_time</th>\n",
       "      <th>mean_score_time</th>\n",
       "      <th>mean_train_score</th>\n",
       "      <th>mean_test_score</th>\n",
       "      <th>std_train_score</th>\n",
       "      <th>std_test_score</th>\n",
       "    </tr>\n",
       "  </thead>\n",
       "  <tbody>\n",
       "    <tr>\n",
       "      <th>33</th>\n",
       "      <td>QuantileTransformer()</td>\n",
       "      <td>distance</td>\n",
       "      <td>15</td>\n",
       "      <td>manhattan</td>\n",
       "      <td>kd_tree</td>\n",
       "      <td>1</td>\n",
       "      <td>0.042116</td>\n",
       "      <td>0.261872</td>\n",
       "      <td>1.0</td>\n",
       "      <td>0.904250</td>\n",
       "      <td>0.0</td>\n",
       "      <td>0.010734</td>\n",
       "    </tr>\n",
       "    <tr>\n",
       "      <th>11</th>\n",
       "      <td>QuantileTransformer()</td>\n",
       "      <td>distance</td>\n",
       "      <td>15</td>\n",
       "      <td>manhattan</td>\n",
       "      <td>ball_tree</td>\n",
       "      <td>1</td>\n",
       "      <td>0.046632</td>\n",
       "      <td>0.275089</td>\n",
       "      <td>1.0</td>\n",
       "      <td>0.904250</td>\n",
       "      <td>0.0</td>\n",
       "      <td>0.010734</td>\n",
       "    </tr>\n",
       "    <tr>\n",
       "      <th>34</th>\n",
       "      <td>RobustScaler()</td>\n",
       "      <td>distance</td>\n",
       "      <td>15</td>\n",
       "      <td>manhattan</td>\n",
       "      <td>ball_tree</td>\n",
       "      <td>3</td>\n",
       "      <td>0.022567</td>\n",
       "      <td>0.238528</td>\n",
       "      <td>1.0</td>\n",
       "      <td>0.903875</td>\n",
       "      <td>0.0</td>\n",
       "      <td>0.010668</td>\n",
       "    </tr>\n",
       "  </tbody>\n",
       "</table>\n",
       "</div>"
      ],
      "text/plain": [
       "              transformer estimator__weights  estimator__n_neighbors  \\\n",
       "33  QuantileTransformer()           distance                      15   \n",
       "11  QuantileTransformer()           distance                      15   \n",
       "34         RobustScaler()           distance                      15   \n",
       "\n",
       "   estimator__metric estimator__algorithm  rank_test_score  mean_fit_time  \\\n",
       "33         manhattan              kd_tree                1       0.042116   \n",
       "11         manhattan            ball_tree                1       0.046632   \n",
       "34         manhattan            ball_tree                3       0.022567   \n",
       "\n",
       "    mean_score_time  mean_train_score  mean_test_score  std_train_score  \\\n",
       "33         0.261872               1.0         0.904250              0.0   \n",
       "11         0.275089               1.0         0.904250              0.0   \n",
       "34         0.238528               1.0         0.903875              0.0   \n",
       "\n",
       "    std_test_score  \n",
       "33        0.010734  \n",
       "11        0.010734  \n",
       "34        0.010668  "
      ]
     },
     "execution_count": 29,
     "metadata": {},
     "output_type": "execute_result"
    }
   ],
   "source": [
    "# typical k to start with (eg. https://stackoverflow.com/a/11569262):\n",
    "print(\"Typical `k` to start with (square root of number of samples): \",\n",
    "      np.sqrt(X_train_val.shape[0]))\n",
    "\n",
    "knn_params = {\n",
    "    \"transformer\": transformers,\n",
    "    \"estimator__n_neighbors\": [5, 15, 45, 90],  # default 5\n",
    "    # distance function, default minkowski\n",
    "    \"estimator__metric\": [\"minkowski\", \"euclidean\", \"manhattan\"],\n",
    "    \"estimator__weights\": [\"uniform\", \"distance\"],  # default uniform\n",
    "    \"estimator__algorithm\" : [\"auto\", \"ball_tree\", \"kd_tree\"]  # default auto\n",
    "}\n",
    "\n",
    "knc_raw_clf_res = gen_search_eval(\"knc\", knn_params, \"clf\", \"random\")\n",
    "print(f\"\\nBest classifier pipeline: {knc_raw_clf_res.best_estimator_}\")\n",
    "\n",
    "knc_clf_res = fmt_search_res(knc_raw_clf_res)\n",
    "knc_clf_res.head(3)"
   ]
  },
  {
   "cell_type": "code",
   "execution_count": 30,
   "id": "asian-mouth",
   "metadata": {
    "_kg_hide-input": true,
    "execution": {
     "iopub.execute_input": "2021-09-25T11:58:08.233449Z",
     "iopub.status.busy": "2021-09-25T11:58:08.232812Z",
     "iopub.status.idle": "2021-09-25T11:59:21.852636Z",
     "shell.execute_reply": "2021-09-25T11:59:21.852139Z",
     "shell.execute_reply.started": "2021-09-25T07:31:21.404020Z"
    },
    "papermill": {
     "duration": 73.683415,
     "end_time": "2021-09-25T11:59:21.852780",
     "exception": false,
     "start_time": "2021-09-25T11:58:08.169365",
     "status": "completed"
    },
    "tags": []
   },
   "outputs": [
    {
     "name": "stdout",
     "output_type": "stream",
     "text": [
      "Fitting 5 folds for each of 60 candidates, totalling 300 fits\n",
      "\n",
      "Best regressor pipeline: Pipeline(steps=[('transformer', QuantileTransformer()),\n",
      "                ('estimator',\n",
      "                 KNeighborsRegressor(algorithm='ball_tree', metric='manhattan',\n",
      "                                     n_neighbors=15, weights='distance'))])\n"
     ]
    },
    {
     "data": {
      "text/html": [
       "<div>\n",
       "<style scoped>\n",
       "    .dataframe tbody tr th:only-of-type {\n",
       "        vertical-align: middle;\n",
       "    }\n",
       "\n",
       "    .dataframe tbody tr th {\n",
       "        vertical-align: top;\n",
       "    }\n",
       "\n",
       "    .dataframe thead th {\n",
       "        text-align: right;\n",
       "    }\n",
       "</style>\n",
       "<table border=\"1\" class=\"dataframe\">\n",
       "  <thead>\n",
       "    <tr style=\"text-align: right;\">\n",
       "      <th></th>\n",
       "      <th>transformer</th>\n",
       "      <th>estimator__weights</th>\n",
       "      <th>estimator__n_neighbors</th>\n",
       "      <th>estimator__metric</th>\n",
       "      <th>estimator__algorithm</th>\n",
       "      <th>rank_test_score</th>\n",
       "      <th>mean_fit_time</th>\n",
       "      <th>mean_score_time</th>\n",
       "      <th>mean_train_score</th>\n",
       "      <th>mean_test_score</th>\n",
       "      <th>std_train_score</th>\n",
       "      <th>std_test_score</th>\n",
       "    </tr>\n",
       "  </thead>\n",
       "  <tbody>\n",
       "    <tr>\n",
       "      <th>11</th>\n",
       "      <td>QuantileTransformer()</td>\n",
       "      <td>distance</td>\n",
       "      <td>15</td>\n",
       "      <td>manhattan</td>\n",
       "      <td>ball_tree</td>\n",
       "      <td>1</td>\n",
       "      <td>0.040138</td>\n",
       "      <td>0.238723</td>\n",
       "      <td>1.0</td>\n",
       "      <td>0.881570</td>\n",
       "      <td>0.0</td>\n",
       "      <td>0.003647</td>\n",
       "    </tr>\n",
       "    <tr>\n",
       "      <th>33</th>\n",
       "      <td>QuantileTransformer()</td>\n",
       "      <td>distance</td>\n",
       "      <td>15</td>\n",
       "      <td>manhattan</td>\n",
       "      <td>kd_tree</td>\n",
       "      <td>1</td>\n",
       "      <td>0.040262</td>\n",
       "      <td>0.258324</td>\n",
       "      <td>1.0</td>\n",
       "      <td>0.881570</td>\n",
       "      <td>0.0</td>\n",
       "      <td>0.003647</td>\n",
       "    </tr>\n",
       "    <tr>\n",
       "      <th>34</th>\n",
       "      <td>RobustScaler()</td>\n",
       "      <td>distance</td>\n",
       "      <td>15</td>\n",
       "      <td>manhattan</td>\n",
       "      <td>ball_tree</td>\n",
       "      <td>3</td>\n",
       "      <td>0.021219</td>\n",
       "      <td>0.242946</td>\n",
       "      <td>1.0</td>\n",
       "      <td>0.881429</td>\n",
       "      <td>0.0</td>\n",
       "      <td>0.003281</td>\n",
       "    </tr>\n",
       "  </tbody>\n",
       "</table>\n",
       "</div>"
      ],
      "text/plain": [
       "              transformer estimator__weights  estimator__n_neighbors  \\\n",
       "11  QuantileTransformer()           distance                      15   \n",
       "33  QuantileTransformer()           distance                      15   \n",
       "34         RobustScaler()           distance                      15   \n",
       "\n",
       "   estimator__metric estimator__algorithm  rank_test_score  mean_fit_time  \\\n",
       "11         manhattan            ball_tree                1       0.040138   \n",
       "33         manhattan              kd_tree                1       0.040262   \n",
       "34         manhattan            ball_tree                3       0.021219   \n",
       "\n",
       "    mean_score_time  mean_train_score  mean_test_score  std_train_score  \\\n",
       "11         0.238723               1.0         0.881570              0.0   \n",
       "33         0.258324               1.0         0.881570              0.0   \n",
       "34         0.242946               1.0         0.881429              0.0   \n",
       "\n",
       "    std_test_score  \n",
       "11        0.003647  \n",
       "33        0.003647  \n",
       "34        0.003281  "
      ]
     },
     "execution_count": 30,
     "metadata": {},
     "output_type": "execute_result"
    }
   ],
   "source": [
    "knr_raw_reg_res = gen_search_eval(\"knr\", knn_params, \"reg\", \"random\")\n",
    "print(f\"\\nBest regressor pipeline: {knr_raw_reg_res.best_estimator_}\")\n",
    "\n",
    "knr_reg_res = fmt_search_res(knr_raw_reg_res)\n",
    "knr_reg_res.head(3)"
   ]
  },
  {
   "cell_type": "markdown",
   "id": "adapted-passion",
   "metadata": {
    "papermill": {
     "duration": 0.05962,
     "end_time": "2021-09-25T11:59:21.971665",
     "exception": false,
     "start_time": "2021-09-25T11:59:21.912045",
     "status": "completed"
    },
    "tags": []
   },
   "source": [
    "**Logistic/Linear Regression**\n",
    "\n",
    "Linear regression linearly combines the input features. In logistic regression, the results are then transformed into probabilities. I explored parameters controlling regularisation type and strength, as well as the algorithm used to find the optimal coefficients."
   ]
  },
  {
   "cell_type": "code",
   "execution_count": 31,
   "id": "conventional-convert",
   "metadata": {
    "_kg_hide-input": true,
    "execution": {
     "iopub.execute_input": "2021-09-25T11:59:22.099832Z",
     "iopub.status.busy": "2021-09-25T11:59:22.099058Z",
     "iopub.status.idle": "2021-09-25T11:59:37.162539Z",
     "shell.execute_reply": "2021-09-25T11:59:37.163224Z",
     "shell.execute_reply.started": "2021-09-25T07:32:36.613401Z"
    },
    "papermill": {
     "duration": 15.131714,
     "end_time": "2021-09-25T11:59:37.163445",
     "exception": false,
     "start_time": "2021-09-25T11:59:22.031731",
     "status": "completed"
    },
    "tags": []
   },
   "outputs": [
    {
     "name": "stdout",
     "output_type": "stream",
     "text": [
      "Fitting 5 folds for each of 140 candidates, totalling 700 fits\n",
      "\n",
      "Best performing pipeline: Pipeline(steps=[('transformer', RobustScaler()),\n",
      "                ('estimator',\n",
      "                 LogisticRegression(C=0.01, random_state=1, solver='saga'))])\n"
     ]
    },
    {
     "data": {
      "text/html": [
       "<div>\n",
       "<style scoped>\n",
       "    .dataframe tbody tr th:only-of-type {\n",
       "        vertical-align: middle;\n",
       "    }\n",
       "\n",
       "    .dataframe tbody tr th {\n",
       "        vertical-align: top;\n",
       "    }\n",
       "\n",
       "    .dataframe thead th {\n",
       "        text-align: right;\n",
       "    }\n",
       "</style>\n",
       "<table border=\"1\" class=\"dataframe\">\n",
       "  <thead>\n",
       "    <tr style=\"text-align: right;\">\n",
       "      <th></th>\n",
       "      <th>estimator__C</th>\n",
       "      <th>estimator__penalty</th>\n",
       "      <th>estimator__solver</th>\n",
       "      <th>transformer</th>\n",
       "      <th>rank_test_score</th>\n",
       "      <th>mean_fit_time</th>\n",
       "      <th>mean_score_time</th>\n",
       "      <th>mean_train_score</th>\n",
       "      <th>mean_test_score</th>\n",
       "      <th>std_train_score</th>\n",
       "      <th>std_test_score</th>\n",
       "    </tr>\n",
       "  </thead>\n",
       "  <tbody>\n",
       "    <tr>\n",
       "      <th>81</th>\n",
       "      <td>0.01</td>\n",
       "      <td>l2</td>\n",
       "      <td>lbfgs</td>\n",
       "      <td>RobustScaler()</td>\n",
       "      <td>1</td>\n",
       "      <td>0.024826</td>\n",
       "      <td>0.004159</td>\n",
       "      <td>0.813875</td>\n",
       "      <td>0.815</td>\n",
       "      <td>0.001995</td>\n",
       "      <td>0.009569</td>\n",
       "    </tr>\n",
       "    <tr>\n",
       "      <th>85</th>\n",
       "      <td>0.01</td>\n",
       "      <td>l2</td>\n",
       "      <td>newton-cg</td>\n",
       "      <td>RobustScaler()</td>\n",
       "      <td>1</td>\n",
       "      <td>0.040001</td>\n",
       "      <td>0.003654</td>\n",
       "      <td>0.813875</td>\n",
       "      <td>0.815</td>\n",
       "      <td>0.001995</td>\n",
       "      <td>0.009569</td>\n",
       "    </tr>\n",
       "    <tr>\n",
       "      <th>89</th>\n",
       "      <td>0.01</td>\n",
       "      <td>l2</td>\n",
       "      <td>sag</td>\n",
       "      <td>RobustScaler()</td>\n",
       "      <td>1</td>\n",
       "      <td>0.045156</td>\n",
       "      <td>0.003622</td>\n",
       "      <td>0.813875</td>\n",
       "      <td>0.815</td>\n",
       "      <td>0.001995</td>\n",
       "      <td>0.009569</td>\n",
       "    </tr>\n",
       "  </tbody>\n",
       "</table>\n",
       "</div>"
      ],
      "text/plain": [
       "    estimator__C estimator__penalty estimator__solver     transformer  \\\n",
       "81          0.01                 l2             lbfgs  RobustScaler()   \n",
       "85          0.01                 l2         newton-cg  RobustScaler()   \n",
       "89          0.01                 l2               sag  RobustScaler()   \n",
       "\n",
       "    rank_test_score  mean_fit_time  mean_score_time  mean_train_score  \\\n",
       "81                1       0.024826         0.004159          0.813875   \n",
       "85                1       0.040001         0.003654          0.813875   \n",
       "89                1       0.045156         0.003622          0.813875   \n",
       "\n",
       "    mean_test_score  std_train_score  std_test_score  \n",
       "81            0.815         0.001995        0.009569  \n",
       "85            0.815         0.001995        0.009569  \n",
       "89            0.815         0.001995        0.009569  "
      ]
     },
     "execution_count": 31,
     "metadata": {},
     "output_type": "execute_result"
    }
   ],
   "source": [
    "log_reg_params = [\n",
    "    # compatible with both l1 (lasso) and l2 (ridge)\n",
    "    {\"estimator__solver\": [\"saga\", \"liblinear\"],\n",
    "     \"estimator__penalty\": [\"l1\", \"l2\"]},\n",
    "    {\"estimator__solver\": [\"lbfgs\", \"newton-cg\", \"sag\"],  # default lbfgs\n",
    "     \"estimator__penalty\": [\"l2\"]}]\n",
    "    \n",
    "for param_dict in [0, 1]:\n",
    "    log_reg_params[param_dict].update({\"transformer\": transformers,\n",
    "                                       # inverse of lambda, default 1\n",
    "                                      \"estimator__C\": np.logspace(-2, 2, 5)})\n",
    "\n",
    "log_reg_raw_clf_res = gen_search_eval(\"log_reg\", log_reg_params, \"clf\", \"grid\")\n",
    "print(f\"\\nBest performing pipeline: {log_reg_raw_clf_res.best_estimator_}\")\n",
    "\n",
    "log_reg_clf_res = fmt_search_res(log_reg_raw_clf_res)\n",
    "log_reg_clf_res.head(3)"
   ]
  },
  {
   "cell_type": "code",
   "execution_count": 32,
   "id": "presidential-simulation",
   "metadata": {
    "execution": {
     "iopub.execute_input": "2021-09-25T11:59:37.289837Z",
     "iopub.status.busy": "2021-09-25T11:59:37.288971Z",
     "iopub.status.idle": "2021-09-25T11:59:38.410468Z",
     "shell.execute_reply": "2021-09-25T11:59:38.411639Z",
     "shell.execute_reply.started": "2021-09-25T07:32:52.990286Z"
    },
    "papermill": {
     "duration": 1.188498,
     "end_time": "2021-09-25T11:59:38.411910",
     "exception": false,
     "start_time": "2021-09-25T11:59:37.223412",
     "status": "completed"
    },
    "tags": []
   },
   "outputs": [
    {
     "name": "stdout",
     "output_type": "stream",
     "text": [
      "Fitting 5 folds for each of 31 candidates, totalling 155 fits\n",
      "\n",
      "Best performing pipeline: Pipeline(steps=[('transformer', StandardScaler()),\n",
      "                ('estimator',\n",
      "                 Ridge(alpha=10.0, random_state=1, solver='sparse_cg'))])\n"
     ]
    },
    {
     "data": {
      "text/html": [
       "<div>\n",
       "<style scoped>\n",
       "    .dataframe tbody tr th:only-of-type {\n",
       "        vertical-align: middle;\n",
       "    }\n",
       "\n",
       "    .dataframe tbody tr th {\n",
       "        vertical-align: top;\n",
       "    }\n",
       "\n",
       "    .dataframe thead th {\n",
       "        text-align: right;\n",
       "    }\n",
       "</style>\n",
       "<table border=\"1\" class=\"dataframe\">\n",
       "  <thead>\n",
       "    <tr style=\"text-align: right;\">\n",
       "      <th></th>\n",
       "      <th>estimator</th>\n",
       "      <th>estimator__alpha</th>\n",
       "      <th>estimator__solver</th>\n",
       "      <th>rank_test_score</th>\n",
       "      <th>mean_fit_time</th>\n",
       "      <th>mean_score_time</th>\n",
       "      <th>mean_train_score</th>\n",
       "      <th>mean_test_score</th>\n",
       "      <th>std_train_score</th>\n",
       "      <th>std_test_score</th>\n",
       "    </tr>\n",
       "  </thead>\n",
       "  <tbody>\n",
       "    <tr>\n",
       "      <th>23</th>\n",
       "      <td>Ridge(alpha=10.0, random_state=1, solver='spar...</td>\n",
       "      <td>10.0</td>\n",
       "      <td>sparse_cg</td>\n",
       "      <td>1</td>\n",
       "      <td>0.008950</td>\n",
       "      <td>0.002891</td>\n",
       "      <td>0.650059</td>\n",
       "      <td>0.648733</td>\n",
       "      <td>0.003213</td>\n",
       "      <td>0.012781</td>\n",
       "    </tr>\n",
       "    <tr>\n",
       "      <th>18</th>\n",
       "      <td>Ridge(alpha=10.0, random_state=1, solver='spar...</td>\n",
       "      <td>1.0</td>\n",
       "      <td>sparse_cg</td>\n",
       "      <td>2</td>\n",
       "      <td>0.009543</td>\n",
       "      <td>0.003260</td>\n",
       "      <td>0.650060</td>\n",
       "      <td>0.648732</td>\n",
       "      <td>0.003213</td>\n",
       "      <td>0.012782</td>\n",
       "    </tr>\n",
       "    <tr>\n",
       "      <th>13</th>\n",
       "      <td>Ridge(alpha=10.0, random_state=1, solver='spar...</td>\n",
       "      <td>0.1</td>\n",
       "      <td>sparse_cg</td>\n",
       "      <td>3</td>\n",
       "      <td>0.008778</td>\n",
       "      <td>0.002838</td>\n",
       "      <td>0.650061</td>\n",
       "      <td>0.648732</td>\n",
       "      <td>0.003213</td>\n",
       "      <td>0.012782</td>\n",
       "    </tr>\n",
       "  </tbody>\n",
       "</table>\n",
       "</div>"
      ],
      "text/plain": [
       "                                            estimator  estimator__alpha  \\\n",
       "23  Ridge(alpha=10.0, random_state=1, solver='spar...              10.0   \n",
       "18  Ridge(alpha=10.0, random_state=1, solver='spar...               1.0   \n",
       "13  Ridge(alpha=10.0, random_state=1, solver='spar...               0.1   \n",
       "\n",
       "   estimator__solver  rank_test_score  mean_fit_time  mean_score_time  \\\n",
       "23         sparse_cg                1       0.008950         0.002891   \n",
       "18         sparse_cg                2       0.009543         0.003260   \n",
       "13         sparse_cg                3       0.008778         0.002838   \n",
       "\n",
       "    mean_train_score  mean_test_score  std_train_score  std_test_score  \n",
       "23          0.650059         0.648733         0.003213        0.012781  \n",
       "18          0.650060         0.648732         0.003213        0.012782  \n",
       "13          0.650061         0.648732         0.003213        0.012782  "
      ]
     },
     "execution_count": 32,
     "metadata": {},
     "output_type": "execute_result"
    }
   ],
   "source": [
    "lin_reg_params = [\n",
    "    {\"estimator\": [LinearRegression()]},\n",
    "    {\"estimator\": [Lasso(random_state=1)],\n",
    "     \"estimator__alpha\": np.logspace(-2, 2, 5)},\n",
    "    {\"estimator\": [Ridge(random_state=1)],\n",
    "     \"estimator__alpha\": np.logspace(-2, 2, 5),\n",
    "     \"estimator__solver\": [\"auto\", \"svd\", \"sparse_cg\", \"lsqr\", \"sag\"]} # default auto\n",
    "    ]\n",
    "    \n",
    "lin_reg_raw_reg_res = gen_search_eval(\"lin_reg\", lin_reg_params, \"reg\", \"grid\")\n",
    "print(f\"\\nBest performing pipeline: {lin_reg_raw_reg_res.best_estimator_}\")\n",
    "\n",
    "lin_reg_reg_res = fmt_search_res(lin_reg_raw_reg_res)\n",
    "lin_reg_reg_res.head(3)"
   ]
  },
  {
   "cell_type": "markdown",
   "id": "acoustic-portal",
   "metadata": {
    "papermill": {
     "duration": 0.060388,
     "end_time": "2021-09-25T11:59:38.567943",
     "exception": false,
     "start_time": "2021-09-25T11:59:38.507555",
     "status": "completed"
    },
    "tags": []
   },
   "source": [
    "<a id=\"hyperparameter-tuning-summary\"></a>\n",
    "**Optimisation summary**"
   ]
  },
  {
   "cell_type": "code",
   "execution_count": 33,
   "id": "occasional-preview",
   "metadata": {
    "_kg_hide-input": true,
    "execution": {
     "iopub.execute_input": "2021-09-25T11:59:38.700837Z",
     "iopub.status.busy": "2021-09-25T11:59:38.699883Z",
     "iopub.status.idle": "2021-09-25T11:59:38.724566Z",
     "shell.execute_reply": "2021-09-25T11:59:38.724992Z",
     "shell.execute_reply.started": "2021-09-25T07:32:54.312439Z"
    },
    "papermill": {
     "duration": 0.095288,
     "end_time": "2021-09-25T11:59:38.725162",
     "exception": false,
     "start_time": "2021-09-25T11:59:38.629874",
     "status": "completed"
    },
    "tags": []
   },
   "outputs": [
    {
     "data": {
      "text/html": [
       "<style  type=\"text/css\" >\n",
       "</style><table id=\"T_a732e_\" style='display:inline'><caption>classifier summary</caption><thead>    <tr>        <th class=\"blank level0\" ></th>        <th class=\"col_heading level0 col0\" >estimator</th>        <th class=\"col_heading level0 col1\" >baseline</th>        <th class=\"col_heading level0 col2\" >tuned</th>        <th class=\"col_heading level0 col3\" >diff</th>    </tr></thead><tbody>\n",
       "                <tr>\n",
       "                        <th id=\"T_a732e_level0_row0\" class=\"row_heading level0 row0\" >4</th>\n",
       "                        <td id=\"T_a732e_row0_col0\" class=\"data row0 col0\" >svc</td>\n",
       "                        <td id=\"T_a732e_row0_col1\" class=\"data row0 col1\" >96.8%</td>\n",
       "                        <td id=\"T_a732e_row0_col2\" class=\"data row0 col2\" >97.3%</td>\n",
       "                        <td id=\"T_a732e_row0_col3\" class=\"data row0 col3\" >0.6%</td>\n",
       "            </tr>\n",
       "            <tr>\n",
       "                        <th id=\"T_a732e_level0_row1\" class=\"row_heading level0 row1\" >1</th>\n",
       "                        <td id=\"T_a732e_row1_col0\" class=\"data row1 col0\" >lgbc</td>\n",
       "                        <td id=\"T_a732e_row1_col1\" class=\"data row1 col1\" >94.1%</td>\n",
       "                        <td id=\"T_a732e_row1_col2\" class=\"data row1 col2\" >95.5%</td>\n",
       "                        <td id=\"T_a732e_row1_col3\" class=\"data row1 col3\" >1.5%</td>\n",
       "            </tr>\n",
       "            <tr>\n",
       "                        <th id=\"T_a732e_level0_row2\" class=\"row_heading level0 row2\" >3</th>\n",
       "                        <td id=\"T_a732e_row2_col0\" class=\"data row2 col0\" >rfc</td>\n",
       "                        <td id=\"T_a732e_row2_col1\" class=\"data row2 col1\" >92.0%</td>\n",
       "                        <td id=\"T_a732e_row2_col2\" class=\"data row2 col2\" >92.4%</td>\n",
       "                        <td id=\"T_a732e_row2_col3\" class=\"data row2 col3\" >0.4%</td>\n",
       "            </tr>\n",
       "            <tr>\n",
       "                        <th id=\"T_a732e_level0_row3\" class=\"row_heading level0 row3\" >0</th>\n",
       "                        <td id=\"T_a732e_row3_col0\" class=\"data row3 col0\" >knc</td>\n",
       "                        <td id=\"T_a732e_row3_col1\" class=\"data row3 col1\" >89.2%</td>\n",
       "                        <td id=\"T_a732e_row3_col2\" class=\"data row3 col2\" >90.4%</td>\n",
       "                        <td id=\"T_a732e_row3_col3\" class=\"data row3 col3\" >1.2%</td>\n",
       "            </tr>\n",
       "            <tr>\n",
       "                        <th id=\"T_a732e_level0_row4\" class=\"row_heading level0 row4\" >2</th>\n",
       "                        <td id=\"T_a732e_row4_col0\" class=\"data row4 col0\" >log_reg</td>\n",
       "                        <td id=\"T_a732e_row4_col1\" class=\"data row4 col1\" >81.4%</td>\n",
       "                        <td id=\"T_a732e_row4_col2\" class=\"data row4 col2\" >81.5%</td>\n",
       "                        <td id=\"T_a732e_row4_col3\" class=\"data row4 col3\" >0.1%</td>\n",
       "            </tr>\n",
       "    </tbody></table>  <style  type=\"text/css\" >\n",
       "</style><table id=\"T_b1f43_\" style='display:inline'><caption>regressor summary</caption><thead>    <tr>        <th class=\"blank level0\" ></th>        <th class=\"col_heading level0 col0\" >estimator</th>        <th class=\"col_heading level0 col1\" >baseline</th>        <th class=\"col_heading level0 col2\" >tuned</th>        <th class=\"col_heading level0 col3\" >diff</th>    </tr></thead><tbody>\n",
       "                <tr>\n",
       "                        <th id=\"T_b1f43_level0_row0\" class=\"row_heading level0 row0\" >1</th>\n",
       "                        <td id=\"T_b1f43_row0_col0\" class=\"data row0 col0\" >lgbr</td>\n",
       "                        <td id=\"T_b1f43_row0_col1\" class=\"data row0 col1\" >94.6%</td>\n",
       "                        <td id=\"T_b1f43_row0_col2\" class=\"data row0 col2\" >96.0%</td>\n",
       "                        <td id=\"T_b1f43_row0_col3\" class=\"data row0 col3\" >1.4%</td>\n",
       "            </tr>\n",
       "            <tr>\n",
       "                        <th id=\"T_b1f43_level0_row1\" class=\"row_heading level0 row1\" >3</th>\n",
       "                        <td id=\"T_b1f43_row1_col0\" class=\"data row1 col0\" >rfr</td>\n",
       "                        <td id=\"T_b1f43_row1_col1\" class=\"data row1 col1\" >90.0%</td>\n",
       "                        <td id=\"T_b1f43_row1_col2\" class=\"data row1 col2\" >90.2%</td>\n",
       "                        <td id=\"T_b1f43_row1_col3\" class=\"data row1 col3\" >0.2%</td>\n",
       "            </tr>\n",
       "            <tr>\n",
       "                        <th id=\"T_b1f43_level0_row2\" class=\"row_heading level0 row2\" >0</th>\n",
       "                        <td id=\"T_b1f43_row2_col0\" class=\"data row2 col0\" >knr</td>\n",
       "                        <td id=\"T_b1f43_row2_col1\" class=\"data row2 col1\" >87.3%</td>\n",
       "                        <td id=\"T_b1f43_row2_col2\" class=\"data row2 col2\" >88.2%</td>\n",
       "                        <td id=\"T_b1f43_row2_col3\" class=\"data row2 col3\" >0.9%</td>\n",
       "            </tr>\n",
       "            <tr>\n",
       "                        <th id=\"T_b1f43_level0_row3\" class=\"row_heading level0 row3\" >2</th>\n",
       "                        <td id=\"T_b1f43_row3_col0\" class=\"data row3 col0\" >lin_reg</td>\n",
       "                        <td id=\"T_b1f43_row3_col1\" class=\"data row3 col1\" >64.9%</td>\n",
       "                        <td id=\"T_b1f43_row3_col2\" class=\"data row3 col2\" >64.9%</td>\n",
       "                        <td id=\"T_b1f43_row3_col3\" class=\"data row3 col3\" >0.0%</td>\n",
       "            </tr>\n",
       "            <tr>\n",
       "                        <th id=\"T_b1f43_level0_row4\" class=\"row_heading level0 row4\" >4</th>\n",
       "                        <td id=\"T_b1f43_row4_col0\" class=\"data row4 col0\" >svr</td>\n",
       "                        <td id=\"T_b1f43_row4_col1\" class=\"data row4 col1\" >-0.5%</td>\n",
       "                        <td id=\"T_b1f43_row4_col2\" class=\"data row4 col2\" >-0.5%</td>\n",
       "                        <td id=\"T_b1f43_row4_col3\" class=\"data row4 col3\" >0.0%</td>\n",
       "            </tr>\n",
       "    </tbody></table>  "
      ]
     },
     "metadata": {},
     "output_type": "display_data"
    }
   ],
   "source": [
    "def get_tuned_score(est_name:str, task:str):\n",
    "    score = globals()[f\"{est_name}_raw_{task}_res\"].best_score_\n",
    "    return score\n",
    "\n",
    "summary_df_display_text = \"\"\n",
    "\n",
    "for bl_df, mode in zip([blc_no_pwr, blr_no_pwr], [\"clf\", \"reg\"]):\n",
    "    caption = \"classifier summary\" if mode == \"clf\" else \"regressor summary\"\n",
    "    html_text = (\n",
    "        bl_df\n",
    "        .pipe(pd.pivot_table,\n",
    "              values=\"val_score\",\n",
    "              index=\"estimator\",\n",
    "              aggfunc=np.mean)\n",
    "        .rename(columns={\"val_score\": \"baseline\"})\n",
    "        .reset_index()\n",
    "        .sort_values(\"baseline\", ascending=False)\n",
    "        .assign(tuned = lambda x: x[\"estimator\"].apply(get_tuned_score, task=mode),\n",
    "                diff = lambda x: x[\"tuned\"] - x[\"baseline\"])\n",
    "        \n",
    "        # display options\n",
    "        .style.format(\"{:.1%}\", subset = [\"baseline\", \"tuned\", \"diff\"])\n",
    "        .set_table_attributes(\"style='display:inline'\")\n",
    "        .set_caption(caption)._repr_html_()\n",
    "    )\n",
    "    summary_df_display_text = summary_df_display_text + html_text + \"\\xa0\" * 2\n",
    "    \n",
    "display_html(summary_df_display_text, raw=True)"
   ]
  },
  {
   "cell_type": "markdown",
   "id": "prepared-distance",
   "metadata": {
    "papermill": {
     "duration": 0.061486,
     "end_time": "2021-09-25T11:59:38.847572",
     "exception": false,
     "start_time": "2021-09-25T11:59:38.786086",
     "status": "completed"
    },
    "tags": []
   },
   "source": [
    "Overall, optimisation maintained or slightly improved accuracy in all classifiers (by 0.1 - 1.5%) and R<sup>2</sup> in all regressors (by 0.0 - 1.4%), with the best performances coming from the SVM classifier and LightGBM regressor."
   ]
  },
  {
   "cell_type": "markdown",
   "id": "honest-founder",
   "metadata": {
    "papermill": {
     "duration": 0.060656,
     "end_time": "2021-09-25T11:59:38.969192",
     "exception": false,
     "start_time": "2021-09-25T11:59:38.908536",
     "status": "completed"
    },
    "tags": []
   },
   "source": [
    "Back to [Overview](#overview)\n",
    "\n",
    "<a id=\"test-final-model\"></a>\n",
    "### Test final model"
   ]
  },
  {
   "cell_type": "code",
   "execution_count": 34,
   "id": "extraordinary-allah",
   "metadata": {
    "_kg_hide-input": true,
    "execution": {
     "iopub.execute_input": "2021-09-25T11:59:39.122612Z",
     "iopub.status.busy": "2021-09-25T11:59:39.121672Z",
     "iopub.status.idle": "2021-09-25T11:59:40.581333Z",
     "shell.execute_reply": "2021-09-25T11:59:40.580887Z",
     "shell.execute_reply.started": "2021-09-25T07:32:54.403745Z"
    },
    "papermill": {
     "duration": 1.550026,
     "end_time": "2021-09-25T11:59:40.581464",
     "exception": false,
     "start_time": "2021-09-25T11:59:39.031438",
     "status": "completed"
    },
    "tags": []
   },
   "outputs": [
    {
     "name": "stdout",
     "output_type": "stream",
     "text": [
      "SVM classifier test score:  0.9825 \n",
      "\n",
      "              precision    recall  f1-score   support\n",
      "\n",
      "    Unstable       0.99      0.99      0.99      1276\n",
      "      Stable       0.98      0.98      0.98       724\n",
      "\n",
      "    accuracy                           0.98      2000\n",
      "   macro avg       0.98      0.98      0.98      2000\n",
      "weighted avg       0.98      0.98      0.98      2000\n",
      "\n"
     ]
    },
    {
     "data": {
      "image/png": "[encoded data removed]",
      "text/plain": [
       "<Figure size 720x216 with 3 Axes>"
      ]
     },
     "metadata": {
      "needs_background": "light"
     },
     "output_type": "display_data"
    }
   ],
   "source": [
    "best_clf = svc_raw_clf_res.best_estimator_\n",
    "best_clf.fit(X_train_val, clf_y_train_val)\n",
    "print(\"SVM classifier test score: \", best_clf.score(X_test, clf_y_test), \"\\n\")\n",
    "\n",
    "print(classification_report(\n",
    "    y_true=clf_y_test, y_pred=best_clf.predict(X_test),\n",
    "    labels=[0, 1], target_names=[\"Unstable\", \"Stable\"]\n",
    "))\n",
    "\n",
    "fig, axs = plt.subplots(1, 2, figsize=(10, 3))\n",
    "plt.subplots_adjust(wspace=0.3)\n",
    "plot_confusion_matrix(best_clf, X_test, clf_y_test, ax=axs[0])\n",
    "plot_roc_curve(best_clf, X_test, clf_y_test, ax=axs[1]);"
   ]
  },
  {
   "cell_type": "code",
   "execution_count": 35,
   "id": "systematic-lawrence",
   "metadata": {
    "_kg_hide-input": true,
    "execution": {
     "iopub.execute_input": "2021-09-25T11:59:40.712783Z",
     "iopub.status.busy": "2021-09-25T11:59:40.712168Z",
     "iopub.status.idle": "2021-09-25T11:59:41.866063Z",
     "shell.execute_reply": "2021-09-25T11:59:41.865495Z",
     "shell.execute_reply.started": "2021-09-25T07:32:55.877174Z"
    },
    "papermill": {
     "duration": 1.222446,
     "end_time": "2021-09-25T11:59:41.866222",
     "exception": false,
     "start_time": "2021-09-25T11:59:40.643776",
     "status": "completed"
    },
    "tags": []
   },
   "outputs": [
    {
     "name": "stdout",
     "output_type": "stream",
     "text": [
      "LightGBM regressor test score:  0.9592890303261966\n"
     ]
    }
   ],
   "source": [
    "best_reg = lgbr_raw_reg_res.best_estimator_\n",
    "best_reg.fit(X_train_val, reg_y_train_val)\n",
    "print(\"LightGBM regressor test score: \", best_reg.score(X_test, reg_y_test))"
   ]
  },
  {
   "cell_type": "markdown",
   "id": "reduced-paper",
   "metadata": {
    "papermill": {
     "duration": 0.062491,
     "end_time": "2021-09-25T11:59:41.991549",
     "exception": false,
     "start_time": "2021-09-25T11:59:41.929058",
     "status": "completed"
    },
    "tags": []
   },
   "source": [
    "Testing the final classifier on the held out test data scored 98.3% accuracy. Precision, recall and the resulting F1 scores are high in both classes, and the ROC curve looks great. Of course a score this high is extremely rare when working with real data, and suggests there isn't a lot of noise in this simulated data set. Still, [in this publication](https://link.springer.com/article/10.1007/s42979-021-00463-5/tables/3), a deep learning model showed similar performance (97.5% accuracy, 98.7% precision, 98.2% F1-score) on the same data.\n",
    "\n",
    "The final regressor also performed well, scoring 95.9% R<sup>2</sup> on held out test data.\n",
    "\n",
    "I then pickled both models:"
   ]
  },
  {
   "cell_type": "code",
   "execution_count": 36,
   "id": "requested-support",
   "metadata": {
    "execution": {
     "iopub.execute_input": "2021-09-25T11:59:42.136695Z",
     "iopub.status.busy": "2021-09-25T11:59:42.123768Z",
     "iopub.status.idle": "2021-09-25T11:59:42.146467Z",
     "shell.execute_reply": "2021-09-25T11:59:42.145899Z",
     "shell.execute_reply.started": "2021-09-25T07:32:57.120766Z"
    },
    "papermill": {
     "duration": 0.090132,
     "end_time": "2021-09-25T11:59:42.146624",
     "exception": false,
     "start_time": "2021-09-25T11:59:42.056492",
     "status": "completed"
    },
    "tags": []
   },
   "outputs": [],
   "source": [
    "pickle.dump(best_clf, open(\"grid_clf.pkl\", \"wb\"))\n",
    "pickle.dump(best_reg, open(\"grid_reg.pkl\", \"wb\"))"
   ]
  },
  {
   "cell_type": "markdown",
   "id": "southwest-camcorder",
   "metadata": {
    "papermill": {
     "duration": 0.064103,
     "end_time": "2021-09-25T11:59:42.273660",
     "exception": false,
     "start_time": "2021-09-25T11:59:42.209557",
     "status": "completed"
    },
    "tags": []
   },
   "source": [
    "so that I could easily use them in [a simple app](https://share.streamlit.io/sowla/grid_stability_app/main/grid_stability.py) that can be used to see how adjusting model inputs affect the resulting predictions:\n",
    "\n",
    "<img src=\"https://raw.githubusercontent.com/sowla/grid_stability_app/main/img/app.png\" alt=\"streamlit app screenshot\" width=\"70%\"/>\n",
    "\n",
    "The source code, as well as the associated tests and github actions, live [here](https://github.com/sowla/grid_stability_app)."
   ]
  },
  {
   "cell_type": "markdown",
   "id": "turkish-third",
   "metadata": {
    "papermill": {
     "duration": 0.062057,
     "end_time": "2021-09-25T11:59:42.402498",
     "exception": false,
     "start_time": "2021-09-25T11:59:42.340441",
     "status": "completed"
    },
    "tags": []
   },
   "source": [
    "Back to [Overview](#overview)\n",
    "\n",
    "<a id=\"interesting-links\"></a>\n",
    "### Interesting links\n",
    "\n",
    "I thought I'd share a few links/facts I found while doing this project in case they're interesting to anyone else :)\n",
    "\n",
    "- In Germany, commercial electricity producers and consumers have to give [quarter-hourly forecasts](https://www.amprion.net/Energy-Market/Balancing-Groups/Balancing-Group-Price/Important-Information.html) of the amount of electricity they'll produce/consume. You can see current data [here](https://www.smard.de/home/marktdaten?marketDataAttributes=%7B%22resolution%22:%22hour%22,%22region%22:%22DE%22,%22moduleIds%22:%5B1000100,1000101,1000102,1000103,1000104,1000108,1000109,1000110,1000111,1000112,1000113,1000121,5000410,1001226,1001228,1001227,1001223,1001224,1001225,1004066,1004067,1004068,1004069,1004071,1004070,2000122,6000411%5D,%22selectedCategory%22:null,%22activeChart%22:true,%22style%22:%22color%22%7D) (for periods I've checked, predictions for power consumption is a lot more accurate than for power generation, which makes sense).\n",
    "- Transmission system operators (TSOs) have to constantly keep track of and react to changes within [their own grids as well as their neighbours'](https://www.entsoe.eu/regions/). So much coordination has to go on that they form \"[Regional Security Coordinator](https://www.entsoe.eu/major-projects/rscis/#why-do-we-need-to-strengthen-regional-coordination-now)\" (RSC) companies together.\n",
    "- \"Prosumers\", individuals and businesses that act as consumers *and* producers, can [contribute to the energy system](https://smarten.eu/wp-content/uploads/2020/05/Smart_Energy_Prosumers_2020.pdf) in many ways."
   ]
  }
 ],
 "metadata": {
  "kernelspec": {
   "display_name": "Python 3",
   "language": "python",
   "name": "python3"
  },
  "language_info": {
   "codemirror_mode": {
    "name": "ipython",
    "version": 3
   },
   "file_extension": ".py",
   "mimetype": "text/x-python",
   "name": "python",
   "nbconvert_exporter": "python",
   "pygments_lexer": "ipython3",
   "version": "3.7.10"
  },
  "papermill": {
   "default_parameters": {},
   "duration": 2277.459548,
   "end_time": "2021-09-25T11:59:44.702641",
   "environment_variables": {},
   "exception": null,
   "input_path": "__notebook__.ipynb",
   "output_path": "__notebook__.ipynb",
   "parameters": {},
   "start_time": "2021-09-25T11:21:47.243093",
   "version": "2.3.3"
  }
 },
 "nbformat": 4,
 "nbformat_minor": 5
}
